{
 "cells": [
  {
   "cell_type": "code",
   "execution_count": 1,
   "id": "520a6b97-41b4-44cc-b49d-1d3e95db5ab0",
   "metadata": {
    "tags": []
   },
   "outputs": [],
   "source": [
    "import pandas as pd\n",
    "import numpy as np\n",
    "import nltk\n",
    "from nltk.tokenize import word_tokenize\n",
    "import tensorflow as tf\n",
    "from tensorflow import keras\n",
    "from tensorflow.keras.optimizers import Adam\n",
    "from tensorflow.keras.preprocessing.text import Tokenizer\n",
    "from tensorflow.keras.preprocessing.sequence import pad_sequences\n",
    "from tensorflow.keras import backend as K\n",
    "from collections import Counter\n",
    "from sklearn.feature_extraction.text import CountVectorizer\n",
    "import matplotlib.pyplot as plt\n",
    "import json\n",
    "import re"
   ]
  },
  {
   "cell_type": "code",
   "execution_count": 2,
   "id": "d9411c76-ab71-4f6c-b93c-df246d1cb66b",
   "metadata": {
    "tags": []
   },
   "outputs": [],
   "source": [
    "# Read the dataset\n",
    "df = pd.read_excel('./dataset.xlsx', sheet_name='main')\n",
    "val_df = pd.read_excel('./dataset.xlsx', sheet_name='val-similarity')"
   ]
  },
  {
   "cell_type": "code",
   "execution_count": 3,
   "id": "f90d1c2f-e47a-47dd-8e49-a87bcb96a18f",
   "metadata": {
    "tags": []
   },
   "outputs": [
    {
     "data": {
      "text/html": [
       "<div>\n",
       "<style scoped>\n",
       "    .dataframe tbody tr th:only-of-type {\n",
       "        vertical-align: middle;\n",
       "    }\n",
       "\n",
       "    .dataframe tbody tr th {\n",
       "        vertical-align: top;\n",
       "    }\n",
       "\n",
       "    .dataframe thead th {\n",
       "        text-align: right;\n",
       "    }\n",
       "</style>\n",
       "<table border=\"1\" class=\"dataframe\">\n",
       "  <thead>\n",
       "    <tr style=\"text-align: right;\">\n",
       "      <th></th>\n",
       "      <th>field</th>\n",
       "      <th>q</th>\n",
       "      <th>a1</th>\n",
       "      <th>a2</th>\n",
       "      <th>a3</th>\n",
       "      <th>a4</th>\n",
       "      <th>a5</th>\n",
       "      <th>a6</th>\n",
       "      <th>a7</th>\n",
       "      <th>a8</th>\n",
       "      <th>...</th>\n",
       "      <th>a41</th>\n",
       "      <th>a42</th>\n",
       "      <th>a43</th>\n",
       "      <th>a44</th>\n",
       "      <th>a45</th>\n",
       "      <th>a46</th>\n",
       "      <th>a47</th>\n",
       "      <th>a48</th>\n",
       "      <th>a49</th>\n",
       "      <th>a50</th>\n",
       "    </tr>\n",
       "  </thead>\n",
       "  <tbody>\n",
       "    <tr>\n",
       "      <th>0</th>\n",
       "      <td>General - Tentang Perusahaan</td>\n",
       "      <td>Bisakah Anda menjelaskan apa yang membuat Anda...</td>\n",
       "      <td>Saya tertarik untuk bekerja di perusahaan ini ...</td>\n",
       "      <td>Saya terkesan dengan visi dan misi perusahaan ...</td>\n",
       "      <td>Saya tertarik dengan reputasi perusahaan ini d...</td>\n",
       "      <td>Saya melihat bahwa perusahaan ini memberikan k...</td>\n",
       "      <td>Saya tertarik untuk bekerja di perusahaan ini ...</td>\n",
       "      <td>Saya merasa bahwa perusahaan ini adalah tempat...</td>\n",
       "      <td>Saya tertarik dengan inovasi yang ditanamkan o...</td>\n",
       "      <td>Saya ingin bekerja di perusahaan ini karena sa...</td>\n",
       "      <td>...</td>\n",
       "      <td>NaN</td>\n",
       "      <td>NaN</td>\n",
       "      <td>NaN</td>\n",
       "      <td>NaN</td>\n",
       "      <td>NaN</td>\n",
       "      <td>NaN</td>\n",
       "      <td>NaN</td>\n",
       "      <td>NaN</td>\n",
       "      <td>NaN</td>\n",
       "      <td>NaN</td>\n",
       "    </tr>\n",
       "    <tr>\n",
       "      <th>1</th>\n",
       "      <td>General - Tentang Perusahaan</td>\n",
       "      <td>Apa yang Anda ketahui tentang perusahaan ini?</td>\n",
       "      <td>Saya telah melakukan penelitian mendalam tenta...</td>\n",
       "      <td>Saya tahu bahwa perusahaan ini telah memenangk...</td>\n",
       "      <td>Perusahaan ini memiliki kehadiran global yang ...</td>\n",
       "      <td>Saya telah melihat bahwa perusahaan ini aktif ...</td>\n",
       "      <td>Saya tahu bahwa perusahaan ini memiliki budaya...</td>\n",
       "      <td>Saya mengetahui bahwa perusahaan ini sedang be...</td>\n",
       "      <td>Dari apa yang saya baca, perusahaan ini memili...</td>\n",
       "      <td>Saya tahu bahwa perusahaan ini memiliki sejara...</td>\n",
       "      <td>...</td>\n",
       "      <td>NaN</td>\n",
       "      <td>NaN</td>\n",
       "      <td>NaN</td>\n",
       "      <td>NaN</td>\n",
       "      <td>NaN</td>\n",
       "      <td>NaN</td>\n",
       "      <td>NaN</td>\n",
       "      <td>NaN</td>\n",
       "      <td>NaN</td>\n",
       "      <td>NaN</td>\n",
       "    </tr>\n",
       "    <tr>\n",
       "      <th>2</th>\n",
       "      <td>General - Tentang Perusahaan</td>\n",
       "      <td>Kenapa anda memilih perusahaan ini daripada pe...</td>\n",
       "      <td>Saya memilih perusahaan ini karena saya sangat...</td>\n",
       "      <td>Salah satu alasan utama saya memilih perusahaa...</td>\n",
       "      <td>Saya tertarik dengan perusahaan ini karena say...</td>\n",
       "      <td>Salah satu hal yang membuat perusahaan ini men...</td>\n",
       "      <td>Saya melihat bahwa perusahaan ini memberikan p...</td>\n",
       "      <td>Saya telah melakukan riset yang mendalam tenta...</td>\n",
       "      <td>Salah satu faktor yang mempengaruhi pilihan sa...</td>\n",
       "      <td>Saya telah berbicara dengan beberapa mantan da...</td>\n",
       "      <td>...</td>\n",
       "      <td>NaN</td>\n",
       "      <td>NaN</td>\n",
       "      <td>NaN</td>\n",
       "      <td>NaN</td>\n",
       "      <td>NaN</td>\n",
       "      <td>NaN</td>\n",
       "      <td>NaN</td>\n",
       "      <td>NaN</td>\n",
       "      <td>NaN</td>\n",
       "      <td>NaN</td>\n",
       "    </tr>\n",
       "    <tr>\n",
       "      <th>3</th>\n",
       "      <td>General - Latar Belakang User</td>\n",
       "      <td>Apa proyek atau pencapaian terbesar dalam kari...</td>\n",
       "      <td>Salah satu pencapaian terbesar saya adalah saa...</td>\n",
       "      <td>Proyek terbesar dalam karier saya adalah ketik...</td>\n",
       "      <td>Saya memiliki kesempatan untuk mengembangkan p...</td>\n",
       "      <td>Salah satu pencapaian terbesar saya adalah ket...</td>\n",
       "      <td>Proyek terbesar dalam karier saya adalah ketik...</td>\n",
       "      <td>Saya berhasil merancang dan mengelola proyek k...</td>\n",
       "      <td>Ketika saya bekerja sebagai manajer pemasaran,...</td>\n",
       "      <td>Saya berkontribusi dalam proyek pengembangan p...</td>\n",
       "      <td>...</td>\n",
       "      <td>NaN</td>\n",
       "      <td>NaN</td>\n",
       "      <td>NaN</td>\n",
       "      <td>NaN</td>\n",
       "      <td>NaN</td>\n",
       "      <td>NaN</td>\n",
       "      <td>NaN</td>\n",
       "      <td>NaN</td>\n",
       "      <td>NaN</td>\n",
       "      <td>NaN</td>\n",
       "    </tr>\n",
       "    <tr>\n",
       "      <th>4</th>\n",
       "      <td>General - Latar Belakang User</td>\n",
       "      <td>Bisakah Anda berbagi contoh tentang bagaimana ...</td>\n",
       "      <td>Dalam proyek sebelumnya, saya meningkatkan efi...</td>\n",
       "      <td>Saya merasa efisiensi dalam proyek sebelumnya ...</td>\n",
       "      <td>Di proyek sebelumnya, saya memperkenalkan otom...</td>\n",
       "      <td>Untuk meningkatkan produktivitas dalam proyek ...</td>\n",
       "      <td>Saya berhasil meningkatkan efisiensi proyek se...</td>\n",
       "      <td>Dalam proyek terakhir saya, saya memperkenalka...</td>\n",
       "      <td>Salah satu langkah yang saya ambil untuk menin...</td>\n",
       "      <td>Dalam proyek sebelumnya, saya menggunakan tekn...</td>\n",
       "      <td>...</td>\n",
       "      <td>NaN</td>\n",
       "      <td>NaN</td>\n",
       "      <td>NaN</td>\n",
       "      <td>NaN</td>\n",
       "      <td>NaN</td>\n",
       "      <td>NaN</td>\n",
       "      <td>NaN</td>\n",
       "      <td>NaN</td>\n",
       "      <td>NaN</td>\n",
       "      <td>NaN</td>\n",
       "    </tr>\n",
       "  </tbody>\n",
       "</table>\n",
       "<p>5 rows × 52 columns</p>\n",
       "</div>"
      ],
      "text/plain": [
       "                           field  \\\n",
       "0   General - Tentang Perusahaan   \n",
       "1   General - Tentang Perusahaan   \n",
       "2   General - Tentang Perusahaan   \n",
       "3  General - Latar Belakang User   \n",
       "4  General - Latar Belakang User   \n",
       "\n",
       "                                                   q  \\\n",
       "0  Bisakah Anda menjelaskan apa yang membuat Anda...   \n",
       "1      Apa yang Anda ketahui tentang perusahaan ini?   \n",
       "2  Kenapa anda memilih perusahaan ini daripada pe...   \n",
       "3  Apa proyek atau pencapaian terbesar dalam kari...   \n",
       "4  Bisakah Anda berbagi contoh tentang bagaimana ...   \n",
       "\n",
       "                                                  a1  \\\n",
       "0  Saya tertarik untuk bekerja di perusahaan ini ...   \n",
       "1  Saya telah melakukan penelitian mendalam tenta...   \n",
       "2  Saya memilih perusahaan ini karena saya sangat...   \n",
       "3  Salah satu pencapaian terbesar saya adalah saa...   \n",
       "4  Dalam proyek sebelumnya, saya meningkatkan efi...   \n",
       "\n",
       "                                                  a2  \\\n",
       "0  Saya terkesan dengan visi dan misi perusahaan ...   \n",
       "1  Saya tahu bahwa perusahaan ini telah memenangk...   \n",
       "2  Salah satu alasan utama saya memilih perusahaa...   \n",
       "3  Proyek terbesar dalam karier saya adalah ketik...   \n",
       "4  Saya merasa efisiensi dalam proyek sebelumnya ...   \n",
       "\n",
       "                                                  a3  \\\n",
       "0  Saya tertarik dengan reputasi perusahaan ini d...   \n",
       "1  Perusahaan ini memiliki kehadiran global yang ...   \n",
       "2  Saya tertarik dengan perusahaan ini karena say...   \n",
       "3  Saya memiliki kesempatan untuk mengembangkan p...   \n",
       "4  Di proyek sebelumnya, saya memperkenalkan otom...   \n",
       "\n",
       "                                                  a4  \\\n",
       "0  Saya melihat bahwa perusahaan ini memberikan k...   \n",
       "1  Saya telah melihat bahwa perusahaan ini aktif ...   \n",
       "2  Salah satu hal yang membuat perusahaan ini men...   \n",
       "3  Salah satu pencapaian terbesar saya adalah ket...   \n",
       "4  Untuk meningkatkan produktivitas dalam proyek ...   \n",
       "\n",
       "                                                  a5  \\\n",
       "0  Saya tertarik untuk bekerja di perusahaan ini ...   \n",
       "1  Saya tahu bahwa perusahaan ini memiliki budaya...   \n",
       "2  Saya melihat bahwa perusahaan ini memberikan p...   \n",
       "3  Proyek terbesar dalam karier saya adalah ketik...   \n",
       "4  Saya berhasil meningkatkan efisiensi proyek se...   \n",
       "\n",
       "                                                  a6  \\\n",
       "0  Saya merasa bahwa perusahaan ini adalah tempat...   \n",
       "1  Saya mengetahui bahwa perusahaan ini sedang be...   \n",
       "2  Saya telah melakukan riset yang mendalam tenta...   \n",
       "3  Saya berhasil merancang dan mengelola proyek k...   \n",
       "4  Dalam proyek terakhir saya, saya memperkenalka...   \n",
       "\n",
       "                                                  a7  \\\n",
       "0  Saya tertarik dengan inovasi yang ditanamkan o...   \n",
       "1  Dari apa yang saya baca, perusahaan ini memili...   \n",
       "2  Salah satu faktor yang mempengaruhi pilihan sa...   \n",
       "3  Ketika saya bekerja sebagai manajer pemasaran,...   \n",
       "4  Salah satu langkah yang saya ambil untuk menin...   \n",
       "\n",
       "                                                  a8  ...  a41  a42  a43  a44  \\\n",
       "0  Saya ingin bekerja di perusahaan ini karena sa...  ...  NaN  NaN  NaN  NaN   \n",
       "1  Saya tahu bahwa perusahaan ini memiliki sejara...  ...  NaN  NaN  NaN  NaN   \n",
       "2  Saya telah berbicara dengan beberapa mantan da...  ...  NaN  NaN  NaN  NaN   \n",
       "3  Saya berkontribusi dalam proyek pengembangan p...  ...  NaN  NaN  NaN  NaN   \n",
       "4  Dalam proyek sebelumnya, saya menggunakan tekn...  ...  NaN  NaN  NaN  NaN   \n",
       "\n",
       "   a45  a46  a47  a48  a49  a50  \n",
       "0  NaN  NaN  NaN  NaN  NaN  NaN  \n",
       "1  NaN  NaN  NaN  NaN  NaN  NaN  \n",
       "2  NaN  NaN  NaN  NaN  NaN  NaN  \n",
       "3  NaN  NaN  NaN  NaN  NaN  NaN  \n",
       "4  NaN  NaN  NaN  NaN  NaN  NaN  \n",
       "\n",
       "[5 rows x 52 columns]"
      ]
     },
     "execution_count": 3,
     "metadata": {},
     "output_type": "execute_result"
    }
   ],
   "source": [
    "df.head()"
   ]
  },
  {
   "cell_type": "code",
   "execution_count": 4,
   "id": "0af72df9-81ea-45fa-acbe-c06fcd33f6c6",
   "metadata": {
    "tags": []
   },
   "outputs": [
    {
     "name": "stdout",
     "output_type": "stream",
     "text": [
      "total class: 16\n"
     ]
    },
    {
     "data": {
      "text/plain": [
       "{'General - Tentang Perusahaan': 0,\n",
       " 'General - Latar Belakang User': 1,\n",
       " 'General - Terkait Posisi': 2,\n",
       " 'General - Softskill Situasional': 3,\n",
       " 'Penutup': 4,\n",
       " 'Kuliner dan Restoran': 5,\n",
       " 'Penjualan dan Pemasaran': 6,\n",
       " 'Layanan Pelanggan': 7,\n",
       " 'Administrasi dan Akuntansi': 8,\n",
       " 'Desain Grafis': 9,\n",
       " 'IT': 10,\n",
       " 'Keamanan': 11,\n",
       " 'Kesehatan': 12,\n",
       " 'Pendidikan': 13,\n",
       " 'Hiburan': 14,\n",
       " 'Perhotelan': 15}"
      ]
     },
     "execution_count": 4,
     "metadata": {},
     "output_type": "execute_result"
    }
   ],
   "source": [
    "# Declare a class softmax for label\n",
    "df_field_values = df['field']\n",
    "questionClass = {value: index for index, value in enumerate(df_field_values.unique())}\n",
    "print('total class: ' + str(len(questionClass)))\n",
    "questionClass"
   ]
  },
  {
   "cell_type": "code",
   "execution_count": 5,
   "id": "28873118-b72b-42dc-ae19-c0b383fe9a0c",
   "metadata": {
    "tags": []
   },
   "outputs": [],
   "source": [
    "# Combine every answer of each question for training and validation\n",
    "dfKey, dfValue = list(df)[0], list(df)[2::]\n",
    "answers, labels = [], []\n",
    "for i in range(len(dfValue)):\n",
    "    for j in range(len(df[dfValue[i]])):\n",
    "        answer = df[dfValue[i]][j]\n",
    "        if pd.isna(answer): continue\n",
    "        answers.append(answer)\n",
    "        labels.append(questionClass[df[dfKey][j]])\n",
    "\n",
    "dfKey, dfValue = list(val_df)[0], list(val_df)[2:5]\n",
    "val_answers, val_labels = [], []\n",
    "for i in range(len(dfValue)):\n",
    "    for j in range(len(val_df[dfValue[i]])):\n",
    "        val_answer = val_df[dfValue[i]][j]\n",
    "        if pd.isna(val_answer): continue\n",
    "        val_answers.append(val_answer)\n",
    "        val_labels.append(questionClass[val_df[dfKey][j]])"
   ]
  },
  {
   "cell_type": "code",
   "execution_count": 6,
   "id": "2f7ca67b-12c6-49f8-ab27-15f8678fb921",
   "metadata": {
    "tags": []
   },
   "outputs": [
    {
     "data": {
      "text/plain": [
       "(['Saya tertarik untuk bekerja di perusahaan ini karena saya percaya bahwa perusahaan ini menawarkan lingkungan kerja yang sangat inovatif dan dinamis, di mana saya dapat terus berkembang dan memberikan dampak nyata.',\n",
       "  'Saya telah melakukan penelitian mendalam tentang perusahaan ini dan saya tahu bahwa Anda adalah pemimpin dalam industri ini, terkenal karena inovasi dan komitmen terhadap keberlanjutan.',\n",
       "  'Saya memilih perusahaan ini karena saya sangat terinspirasi oleh visi dan misi perusahaan untuk menciptakan dampak positif dalam industri. Saya ingin menjadi bagian dari tim yang berdedikasi untuk mencapai tujuan tersebut.',\n",
       "  'Salah satu pencapaian terbesar saya adalah saat saya memimpin tim dalam peluncuran produk baru yang sukses. Saya berkontribusi dalam merancang strategi pemasaran yang inovatif dan memastikan pelaksanaan yang lancar.',\n",
       "  'Dalam proyek sebelumnya, saya meningkatkan efisiensi dengan mengimplementasikan alat manajemen tugas online yang memungkinkan tim saya untuk mengoordinasikan pekerjaan dengan lebih baik dan memantau kemajuan setiap anggota tim secara real-time. Hal ini membantu saya menghindari tumpang tindih dan memaksimalkan produktivitas.'],\n",
       " [0, 0, 0, 1, 1])"
      ]
     },
     "execution_count": 6,
     "metadata": {},
     "output_type": "execute_result"
    }
   ],
   "source": [
    "answers[:5], labels[:5]"
   ]
  },
  {
   "cell_type": "code",
   "execution_count": 7,
   "id": "2fed5ca9-94f4-489d-a409-ec9203d23323",
   "metadata": {
    "tags": []
   },
   "outputs": [
    {
     "name": "stdout",
     "output_type": "stream",
     "text": [
      "Train data: 2790\n",
      "Validation data: 408\n"
     ]
    }
   ],
   "source": [
    "print(f'Train data: {len(answers)}')\n",
    "print(f'Validation data: {len(val_answers)}')"
   ]
  },
  {
   "cell_type": "code",
   "execution_count": 8,
   "id": "c220b94d-922e-4503-83ff-a375079a9f38",
   "metadata": {
    "tags": []
   },
   "outputs": [
    {
     "data": {
      "text/plain": [
       "[('saya', 6502), ('dan', 4564), ('yang', 3844)]"
      ]
     },
     "execution_count": 8,
     "metadata": {},
     "output_type": "execute_result"
    }
   ],
   "source": [
    "# Counting every word to get the most used word / common word from the dataset\n",
    "wordList = []\n",
    "for item in answers:\n",
    "    words = item.split()\n",
    "    for word in words:\n",
    "        wordList.append(re.sub(r'[^\\w\\d\\s]', '', word.lower()))\n",
    "result = dict(Counter(wordList))\n",
    "commonworddata = sorted(result.items(), key=lambda x: x[1], reverse=True)\n",
    "commonworddata[:3]"
   ]
  },
  {
   "cell_type": "code",
   "execution_count": 9,
   "id": "7e276652-649c-4011-974c-421985f3b6a4",
   "metadata": {
    "tags": []
   },
   "outputs": [],
   "source": [
    "# Saving common word data into json\n",
    "word_list = [{'word': item[0], 'count': item[1]} for item in commonworddata]\n",
    "with open('common_words.json', 'w') as json_file:\n",
    "    json.dump(word_list, json_file, indent=4)"
   ]
  },
  {
   "cell_type": "code",
   "execution_count": 10,
   "id": "a310c152-16d7-46a9-8397-217c68da35c5",
   "metadata": {
    "tags": []
   },
   "outputs": [],
   "source": [
    "# Splitting common word and the frequencies each word into two different array\n",
    "commonword, frequencies = zip(*commonworddata)"
   ]
  },
  {
   "cell_type": "markdown",
   "id": "3c9a8b85-ead9-4c54-b526-1627c7a8be70",
   "metadata": {},
   "source": [
    "<h3>Preprocessing text</h3>\n",
    "The step of our preprocessing text is:\n",
    "<ol>\n",
    "    <li>Remove non alphabet using regex</li>\n",
    "    <li>Make every word into lower case</li>\n",
    "    <li>Removing common word from the sentences until max_length parameter reached</li>\n",
    "        In this case, our maximum length of inputed word is 25.<br>\n",
    "        So, inputed sentences will be keep decreased until 25 words.\n",
    "</ol>"
   ]
  },
  {
   "cell_type": "code",
   "execution_count": 11,
   "id": "523cd97d-8c6f-4fa1-8b11-8e7c04db3545",
   "metadata": {
    "tags": []
   },
   "outputs": [],
   "source": [
    "max_length = 25"
   ]
  },
  {
   "cell_type": "code",
   "execution_count": 12,
   "id": "9502199d-051b-479c-90b6-29c2ab5995fe",
   "metadata": {
    "tags": []
   },
   "outputs": [],
   "source": [
    "def preprocessing_text(sentence, max_length):\n",
    "    filtered_words = re.sub(r'[^\\w\\d\\s]', '', sentence.lower())\n",
    "    words = word_tokenize(filtered_words)\n",
    "    prevLen = len(words)\n",
    "    for i in range(len(commonword)):\n",
    "        if (len(words) <= max_length): break\n",
    "        words = [word for word in words if word.lower() not in [commonword[i]]]\n",
    "        if (len(words) == prevLen): break\n",
    "    return ' '.join(words)"
   ]
  },
  {
   "cell_type": "code",
   "execution_count": 13,
   "id": "93574a18-0645-4abe-8465-77be092ecc00",
   "metadata": {
    "tags": []
   },
   "outputs": [
    {
     "data": {
      "text/plain": [
       "'Saya tertarik untuk bekerja di perusahaan ini karena saya percaya bahwa perusahaan ini menawarkan lingkungan kerja yang sangat inovatif dan dinamis, di mana saya dapat terus berkembang dan memberikan dampak nyata.'"
      ]
     },
     "execution_count": 13,
     "metadata": {},
     "output_type": "execute_result"
    }
   ],
   "source": [
    "answers[0]"
   ]
  },
  {
   "cell_type": "code",
   "execution_count": 14,
   "id": "ff36f98d-a429-4db6-a292-41380a278beb",
   "metadata": {
    "tags": []
   },
   "outputs": [],
   "source": [
    "temp = []\n",
    "for answer in answers:\n",
    "    temp.append(preprocessing_text(answer, max_length))\n",
    "answers = temp\n",
    "\n",
    "temp = []\n",
    "for answer in val_answers:\n",
    "    temp.append(preprocessing_text(answer, max_length))\n",
    "val_answers = temp"
   ]
  },
  {
   "cell_type": "code",
   "execution_count": 15,
   "id": "a24b2ea5-09a5-4df8-9282-159492a19b50",
   "metadata": {
    "tags": []
   },
   "outputs": [
    {
     "data": {
      "text/plain": [
       "'tertarik untuk bekerja di perusahaan ini karena percaya bahwa perusahaan ini menawarkan lingkungan kerja sangat inovatif dinamis di mana dapat terus berkembang memberikan dampak nyata'"
      ]
     },
     "execution_count": 15,
     "metadata": {},
     "output_type": "execute_result"
    }
   ],
   "source": [
    "answers[0]"
   ]
  },
  {
   "cell_type": "code",
   "execution_count": 16,
   "id": "21be8fe6-3a91-4ce5-88f2-bbc5a756dfc3",
   "metadata": {
    "tags": []
   },
   "outputs": [
    {
     "name": "stdout",
     "output_type": "stream",
     "text": [
      "Vocabulary Size: 3539\n"
     ]
    }
   ],
   "source": [
    "# Counting vocabulary size to avoid overfitting or underfitting\n",
    "vectorizer = CountVectorizer()\n",
    "X = vectorizer.fit_transform(answers)\n",
    "vocab_size = len(vectorizer.get_feature_names_out())\n",
    "print(\"Vocabulary Size:\", vocab_size)"
   ]
  },
  {
   "cell_type": "code",
   "execution_count": 17,
   "id": "81c0f525-bd9b-4604-8ef9-9e94f9ebe2ac",
   "metadata": {
    "tags": []
   },
   "outputs": [],
   "source": [
    "# Splitting training and validation data\n",
    "training_sentences = answers\n",
    "testing_sentences = val_answers\n",
    "training_labels = labels\n",
    "testing_labels = val_labels"
   ]
  },
  {
   "cell_type": "code",
   "execution_count": 18,
   "id": "83f6943d-be01-4501-a359-dead3acdc3a3",
   "metadata": {
    "tags": []
   },
   "outputs": [],
   "source": [
    "# Converting the data into sequences and give a padding\n",
    "trunc_type='post'\n",
    "padding_type='post'\n",
    "oov_tok = \"<OOV>\"\n",
    "\n",
    "tokenizer = Tokenizer(num_words=vocab_size, oov_token=oov_tok)\n",
    "tokenizer.fit_on_texts(training_sentences)\n",
    "word_index = tokenizer.word_index\n",
    "\n",
    "training_sequences = tokenizer.texts_to_sequences(training_sentences)\n",
    "training_padded = pad_sequences(training_sequences, maxlen=max_length, padding=padding_type, truncating=trunc_type)\n",
    "\n",
    "testing_sequences = tokenizer.texts_to_sequences(testing_sentences)\n",
    "testing_padded = pad_sequences(testing_sequences, maxlen=max_length, padding=padding_type, truncating=trunc_type)\n",
    "\n",
    "training_labels = np.array(training_labels)\n",
    "testing_labels = np.array(testing_labels)"
   ]
  },
  {
   "cell_type": "code",
   "execution_count": 19,
   "id": "842451b7-12a4-4a03-8016-18d977846a12",
   "metadata": {
    "tags": []
   },
   "outputs": [],
   "source": [
    "# Saving training sentences data into json\n",
    "word_dict = {item[0]: item[1] for item in tokenizer.word_index.items()}\n",
    "with open('tokenizer_dict_scoring.json', 'w') as json_file:\n",
    "    json.dump(word_dict, json_file, indent=4)"
   ]
  },
  {
   "cell_type": "code",
   "execution_count": 20,
   "id": "b4008602-4aaf-4ba3-ac43-01acd70d35be",
   "metadata": {
    "tags": []
   },
   "outputs": [],
   "source": [
    "# Declare graph function\n",
    "def plot_graphs(history, string):\n",
    "    plt.plot(history.history[string])\n",
    "    plt.plot(history.history['val_'+string])\n",
    "    plt.xlabel(\"Epochs\")\n",
    "    plt.ylabel(string)\n",
    "    plt.legend([string, 'val_'+string])\n",
    "    plt.ylim(bottom=0)\n",
    "    plt.show()"
   ]
  },
  {
   "cell_type": "code",
   "execution_count": 21,
   "id": "519e425f-8cd7-4546-b4a9-d7d2819b33cc",
   "metadata": {
    "tags": []
   },
   "outputs": [
    {
     "name": "stdout",
     "output_type": "stream",
     "text": [
      "Model: \"sequential\"\n",
      "_________________________________________________________________\n",
      " Layer (type)                Output Shape              Param #   \n",
      "=================================================================\n",
      " embedding (Embedding)       (None, 25, 256)           905984    \n",
      "                                                                 \n",
      " global_average_pooling1d (G  (None, 256)              0         \n",
      " lobalAveragePooling1D)                                          \n",
      "                                                                 \n",
      " dense (Dense)               (None, 16)                4112      \n",
      "                                                                 \n",
      " dense_1 (Dense)             (None, 16)                272       \n",
      "                                                                 \n",
      "=================================================================\n",
      "Total params: 910,368\n",
      "Trainable params: 910,368\n",
      "Non-trainable params: 0\n",
      "_________________________________________________________________\n"
     ]
    }
   ],
   "source": [
    "# declare the model\n",
    "embedding_dim = 256\n",
    "model = tf.keras.Sequential([\n",
    "    tf.keras.layers.Embedding(vocab_size, embedding_dim, input_length=max_length),\n",
    "    tf.keras.layers.GlobalAveragePooling1D(),\n",
    "    tf.keras.layers.Dense(16, activation='relu'),\n",
    "    tf.keras.layers.Dense(len(questionClass), activation='softmax')\n",
    "])\n",
    "\n",
    "model.summary()"
   ]
  },
  {
   "cell_type": "code",
   "execution_count": 22,
   "id": "3bb87ced-3eec-4aca-bf6b-81b9088b95a7",
   "metadata": {
    "tags": []
   },
   "outputs": [
    {
     "name": "stdout",
     "output_type": "stream",
     "text": [
      "Epoch 1/15\n",
      "88/88 - 1s - loss: 2.6769 - accuracy: 0.2785 - val_loss: 2.5081 - val_accuracy: 0.4461 - 1s/epoch - 13ms/step\n",
      "Epoch 2/15\n",
      "88/88 - 1s - loss: 2.1206 - accuracy: 0.5638 - val_loss: 1.7649 - val_accuracy: 0.6789 - 663ms/epoch - 8ms/step\n",
      "Epoch 3/15\n",
      "88/88 - 1s - loss: 1.2955 - accuracy: 0.7731 - val_loss: 1.1415 - val_accuracy: 0.7966 - 632ms/epoch - 7ms/step\n",
      "Epoch 4/15\n",
      "88/88 - 1s - loss: 0.7671 - accuracy: 0.8749 - val_loss: 0.8649 - val_accuracy: 0.8064 - 644ms/epoch - 7ms/step\n",
      "Epoch 5/15\n",
      "88/88 - 1s - loss: 0.4915 - accuracy: 0.9143 - val_loss: 0.7039 - val_accuracy: 0.8309 - 637ms/epoch - 7ms/step\n",
      "Epoch 6/15\n",
      "88/88 - 1s - loss: 0.3344 - accuracy: 0.9423 - val_loss: 0.6241 - val_accuracy: 0.8382 - 620ms/epoch - 7ms/step\n",
      "Epoch 7/15\n",
      "88/88 - 1s - loss: 0.2350 - accuracy: 0.9674 - val_loss: 0.5778 - val_accuracy: 0.8456 - 623ms/epoch - 7ms/step\n",
      "Epoch 8/15\n",
      "88/88 - 1s - loss: 0.1668 - accuracy: 0.9778 - val_loss: 0.5462 - val_accuracy: 0.8333 - 603ms/epoch - 7ms/step\n",
      "Epoch 9/15\n",
      "88/88 - 1s - loss: 0.1215 - accuracy: 0.9878 - val_loss: 0.5243 - val_accuracy: 0.8407 - 612ms/epoch - 7ms/step\n",
      "Epoch 10/15\n",
      "88/88 - 1s - loss: 0.0899 - accuracy: 0.9932 - val_loss: 0.5165 - val_accuracy: 0.8407 - 628ms/epoch - 7ms/step\n",
      "Epoch 11/15\n",
      "88/88 - 1s - loss: 0.0680 - accuracy: 0.9953 - val_loss: 0.5040 - val_accuracy: 0.8407 - 608ms/epoch - 7ms/step\n",
      "Epoch 12/15\n",
      "88/88 - 1s - loss: 0.0520 - accuracy: 0.9982 - val_loss: 0.4980 - val_accuracy: 0.8431 - 626ms/epoch - 7ms/step\n",
      "Epoch 13/15\n",
      "88/88 - 1s - loss: 0.0406 - accuracy: 0.9986 - val_loss: 0.4961 - val_accuracy: 0.8407 - 630ms/epoch - 7ms/step\n",
      "Epoch 14/15\n",
      "88/88 - 1s - loss: 0.0323 - accuracy: 1.0000 - val_loss: 0.4996 - val_accuracy: 0.8358 - 631ms/epoch - 7ms/step\n",
      "Epoch 15/15\n",
      "88/88 - 1s - loss: 0.0263 - accuracy: 1.0000 - val_loss: 0.4933 - val_accuracy: 0.8358 - 632ms/epoch - 7ms/step\n"
     ]
    },
    {
     "data": {
      "image/png": "[encoded data removed]",
      "text/plain": [
       "<Figure size 640x480 with 1 Axes>"
      ]
     },
     "metadata": {},
     "output_type": "display_data"
    },
    {
     "data": {
      "image/png": "[encoded data removed]",
      "text/plain": [
       "<Figure size 640x480 with 1 Axes>"
      ]
     },
     "metadata": {},
     "output_type": "display_data"
    }
   ],
   "source": [
    "model.compile(loss='SparseCategoricalCrossentropy',optimizer=Adam(0.001),metrics=['accuracy'])\n",
    "history = model.fit(training_padded, training_labels, epochs=15, validation_data=(testing_padded, testing_labels), verbose=2)\n",
    "plot_graphs(history, \"accuracy\")\n",
    "plot_graphs(history, \"loss\")"
   ]
  },
  {
   "cell_type": "markdown",
   "id": "1109571b-5be5-41e0-8366-71d57d90aa21",
   "metadata": {
    "tags": []
   },
   "source": [
    "<h3>Demo</h3>"
   ]
  },
  {
   "cell_type": "code",
   "execution_count": 23,
   "id": "f619b4b7",
   "metadata": {
    "tags": []
   },
   "outputs": [],
   "source": [
    "# Define a Cosine Similarity Algorithm\n",
    "def cosine_similarity(str1, str2):\n",
    "    arr1 = preprocessing_text(str1, max_length).split(' ');\n",
    "    arr2 = preprocessing_text(str2, max_length).split(' ');\n",
    "    common_elements = sorted(list(filter(lambda element: element in arr2, arr1)))\n",
    "    unique_arr1 = list(filter(lambda element: element not in arr2, arr1))\n",
    "    unique_arr2 = list(filter(lambda element: element not in arr1, arr2))\n",
    "    arr1a = common_elements + unique_arr1\n",
    "    arr2a = common_elements + unique_arr2\n",
    "    total_same_word = len(arr1) - len(unique_arr1)\n",
    "    set1 = set(arr1a)\n",
    "    set2 = set(arr2a)\n",
    "    count1 = 0\n",
    "    count2 = 0\n",
    "    for element in arr1a:\n",
    "        if element not in set2:\n",
    "            count1 += 1\n",
    "\n",
    "    for element in arr2a:\n",
    "        if element not in set1:\n",
    "            count2 += 1\n",
    "    arr1b = arr1a + [None] * count2\n",
    "    arr2b = arr2a + [None] * count1\n",
    "    def switch_element_by_index(arr, idx1, idx2):\n",
    "        arr[idx1], arr[idx2] = arr[idx2], arr[idx1]\n",
    "    for i in range(len(arr1b)):\n",
    "        if i < total_same_word:\n",
    "            continue\n",
    "        if arr1b[i] is not None and arr2b[i] is not None:\n",
    "            switch_element_by_index(arr2b, i, len(arr1b) - 1)\n",
    "    D1 = []\n",
    "    D2 = []\n",
    "    for i in range(len(arr1b)):\n",
    "        if i < total_same_word:\n",
    "            D1.append(1)\n",
    "            D2.append(1)\n",
    "        elif arr1b[i] is None:\n",
    "            D1.append(0)\n",
    "            D2.append(1)\n",
    "        elif arr2b[i] is None:\n",
    "            D1.append(1)\n",
    "            D2.append(0)\n",
    "    D1D2 = 0\n",
    "    D1Sum = sum(D1)\n",
    "    D2Sum = sum(D2)\n",
    "    for i in range(len(D1)):\n",
    "        D1D2 += D1[i] * D2[i]\n",
    "    Similarity = D1D2 / (D1Sum ** 0.5 * D2Sum ** 0.5)\n",
    "    return Similarity\n",
    "\n",
    "# Label decode function for predict reesult\n",
    "def get_key_by_value(dictionary, target_value):\n",
    "    for key, value in dictionary.items():\n",
    "        if value == target_value:\n",
    "            return key\n",
    "    return None\n",
    "\n",
    "# Predict function\n",
    "def predict(text):\n",
    "    preprocessed_text = preprocessing_text(text, max_length)\n",
    "    input_sequence = tokenizer.texts_to_sequences([preprocessed_text])\n",
    "    padded_input = pad_sequences(input_sequence, maxlen=max_length, padding=padding_type, truncating=trunc_type)\n",
    "    predictions = model.predict(padded_input, verbose=0)\n",
    "    top_indices = np.argmax(predictions)\n",
    "    result = get_key_by_value(questionClass, top_indices)\n",
    "    return result"
   ]
  },
  {
   "cell_type": "code",
   "execution_count": 24,
   "id": "d02a830d-b8e0-4290-9177-2cb8dd706581",
   "metadata": {
    "tags": []
   },
   "outputs": [],
   "source": [
    "# Demo\n",
    "def scoring(tes_q, tes_a):\n",
    "    listAnswer = []\n",
    "    field = ''\n",
    "    for i in range(len(df['q'])):\n",
    "        if df['q'][i] == tes_q:\n",
    "            field = df['field'][i]\n",
    "            for j in range(len(list(df)[2:])):\n",
    "                answer = df[list(df)[2:][j]][i]\n",
    "                if pd.isna(answer): break\n",
    "                listAnswer.append(answer)\n",
    "\n",
    "    result_field = predict(tes_a)\n",
    "    if result_field == field:\n",
    "        result_field = True\n",
    "    else :\n",
    "        result_field = False\n",
    "\n",
    "    scoring_similarity_list = []\n",
    "    for i in range(len(listAnswer)):\n",
    "        scoring_similarity_list.append(cosine_similarity(tes_a, listAnswer[i]))\n",
    "    result_similarity = max(scoring_similarity_list)\n",
    "    total_score = result_field * 0.5 + result_similarity * 0.5\n",
    "    print(f\"Your answer is {'Relate' if result_field else 'Not Relate'} with a similarity of {result_similarity}\")\n",
    "    print('Total score:', total_score)"
   ]
  },
  {
   "cell_type": "code",
   "execution_count": 25,
   "id": "f7c29a92-329a-45b0-9eab-bfe056ca2222",
   "metadata": {
    "tags": []
   },
   "outputs": [
    {
     "name": "stdout",
     "output_type": "stream",
     "text": [
      "Your answer is Relate with a similarity of 0.753778361444409\n",
      "Total score: 0.8768891807222046\n"
     ]
    }
   ],
   "source": [
    "# Demo: Pertanyaan dengan field Kuliner dan Restoran dengan jawaban yang bagus\n",
    "q = 'Bagaimana Anda mendefinisikan konsep kuliner yang unik?'\n",
    "a = 'Bagi saya, kuliner yang unik melibatkan eksperimen dalam menciptakan rasa baru yang belum pernah dikenal sebelumnya. Proses ini melibatkan penggabungan bahan, teknik memasak inovatif, dan cara penyajian yang menarik.'\n",
    "scoring(q, a)"
   ]
  },
  {
   "cell_type": "code",
   "execution_count": 26,
   "id": "4797dbed-2777-4b40-adbb-85924edf5659",
   "metadata": {
    "tags": []
   },
   "outputs": [
    {
     "name": "stdout",
     "output_type": "stream",
     "text": [
      "Your answer is Relate with a similarity of 0.35777087639996635\n",
      "Total score: 0.6788854381999831\n"
     ]
    }
   ],
   "source": [
    "# field: Pertanyaan dengan field Kuliner dan Restoran dengan jawaban yang kurang tepat namun tetap satu bidang\n",
    "q = 'Bagaimana Anda mendefinisikan konsep kuliner yang unik?'\n",
    "a = 'Memiliki berbagai pilihan pemasok adalah strategi saya untuk mengurangi risiko ketika ada gangguan pasokan atau kenaikan harga. Ini membantu menjaga fleksibilitas produksi.'\n",
    "scoring(q, a)"
   ]
  },
  {
   "cell_type": "code",
   "execution_count": 27,
   "id": "e01cd0de-f9a6-4155-8a82-f0b29b1cc58f",
   "metadata": {
    "tags": []
   },
   "outputs": [
    {
     "name": "stdout",
     "output_type": "stream",
     "text": [
      "Your answer is Not Relate with a similarity of 0.18650096164806276\n",
      "Total score: 0.09325048082403138\n"
     ]
    }
   ],
   "source": [
    "# field: Pertanyaan dengan field Kuliner dan Restoran dengan jawaban yang tidak tepat dan beda bidang\n",
    "q = 'Bagaimana Anda mendefinisikan konsep kuliner yang unik?'\n",
    "a = 'Untuk mencegah masalah yang sama terulang, saya akan mengadakan pertemuan \"tindakan perbaikan\" yang melibatkan tim terkait. saya akan mengevaluasi tindakan yang telah diambil untuk mengatasi masalah tersebut dan memastikan implementasi perbaikan yang sesuai. Untuk mencegah masalah baru, saya akan mendorong tim untuk berpikir kritis dan aktif mencari tanda-tanda potensi masalah.'\n",
    "scoring(q, a)"
   ]
  }
 ],
 "metadata": {
  "kernelspec": {
   "display_name": "Python 3 (ipykernel)",
   "language": "python",
   "name": "python3"
  },
  "language_info": {
   "codemirror_mode": {
    "name": "ipython",
    "version": 3
   },
   "file_extension": ".py",
   "mimetype": "text/x-python",
   "name": "python",
   "nbconvert_exporter": "python",
   "pygments_lexer": "ipython3",
   "version": "3.9.18"
  }
 },
 "nbformat": 4,
 "nbformat_minor": 5
}
