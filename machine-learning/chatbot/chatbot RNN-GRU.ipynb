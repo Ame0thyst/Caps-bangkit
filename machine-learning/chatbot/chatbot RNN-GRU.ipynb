{
 "cells": [
  {
   "cell_type": "code",
   "execution_count": 1,
   "metadata": {
    "id": "nQ3hAZAvRGAL",
    "tags": []
   },
   "outputs": [],
   "source": [
    "import tensorflow as tf\n",
    "import pandas as pd\n",
    "import numpy as np\n",
    "import json\n",
    "import random\n",
    "import re\n",
    "import nltk\n",
    "from nltk.corpus import stopwords\n",
    "from nltk.tokenize import word_tokenize\n",
    "from tensorflow.keras.preprocessing.text import Tokenizer\n",
    "import matplotlib.pyplot as plt\n",
    "from tensorflow.keras.preprocessing.sequence import pad_sequences\n",
    "from sklearn.preprocessing import LabelEncoder"
   ]
  },
  {
   "cell_type": "code",
   "execution_count": 2,
   "metadata": {
    "id": "8cjM4mWXR_B7",
    "tags": []
   },
   "outputs": [],
   "source": [
    "# Read the dataset\n",
    "with open(\"dataset_training.json\") as file:\n",
    "  dataset = json.load(file)\n",
    "with open(\"dataset_validation.json\") as file:\n",
    "  val_dataset = json.load(file)"
   ]
  },
  {
   "cell_type": "code",
   "execution_count": 3,
   "metadata": {
    "id": "YxP2yUifSLs0",
    "tags": []
   },
   "outputs": [],
   "source": [
    "# Declare preprocessing text and dataset function\n",
    "blacklist_word = ['saya']\n",
    "replace_words = [\n",
    "    ['wawancara', ['interview']],\n",
    "    ['online', ['daring', 'remote']],\n",
    "    ['meeting', ['gmeet', 'zoom']],\n",
    "    ['persiapan',['persiapkan', 'disiapkan','dipersiapkan']],\n",
    "    ['cv', ['curiculum vitae', 'resume']],\n",
    "    ['penutup', ['closing statement']],\n",
    "    ['mereschedule', ['jadwal ulang', 'menjadwalkan ulang', 'mengubah jadwal', 'merubah jadwal', 'pindah jadwal']],\n",
    "    ['pewawancara', ['hrd', 'recruiter', 'interviewer', 'hr']],\n",
    "    ['bagus', ['menarik', 'keren', 'tepat']],\n",
    "    ['kesalahan umum', ['kesalahan kecil']],\n",
    "    ['pakaian', ['baju', 'setelan', 'kostum', 'berpenampilan']],\n",
    "    ['stres', ['stress']],\n",
    "    ['bahasa tubuh', ['gestur', 'gerak tubuh', 'postur']],\n",
    "    ['kurang', ['minim']],\n",
    "    ['gugup', ['terbatabata', 'gagap', 'grogi']],\n",
    "    ['saat', ['dalam proses']],\n",
    "    ['pekerjaan', ['job']],\n",
    "    ['hai', ['hello', 'hy', 'helo', 'halo', 'hay', 'p']]\n",
    "]\n",
    "\n",
    "def preprocessing_text(sentence):\n",
    "    filtered_words = re.sub(r'[^\\w\\d\\s]', '', sentence.lower())\n",
    "    words = word_tokenize(filtered_words)\n",
    "\n",
    "    cleaned_words = []\n",
    "    for word in words:\n",
    "        if word in blacklist_word: continue\n",
    "        replaced = False\n",
    "        for replacement, target in replace_words:\n",
    "            if word in target:\n",
    "                cleaned_words.append(replacement)\n",
    "                replaced = True\n",
    "        if not replaced:\n",
    "            cleaned_words.append(word)\n",
    "\n",
    "    return ' '.join(cleaned_words)\n",
    "\n",
    "def processing_json_dataset(dataset):\n",
    "    tags = []\n",
    "    inputs = []\n",
    "    responses={}\n",
    "    for intent in dataset:\n",
    "        responses[intent['tag']]=intent['responses']\n",
    "        for lines in intent['patterns']:\n",
    "            inputs.append(preprocessing_text(lines))\n",
    "            tags.append(intent['tag'])\n",
    "    return [tags, inputs, responses]\n",
    "\n",
    "def processing_json_val_dataset(dataset):\n",
    "    tags = []\n",
    "    inputs = []\n",
    "    for intent in dataset:\n",
    "        for lines in intent['patterns']:\n",
    "            inputs.append(preprocessing_text(lines))\n",
    "            tags.append(intent['tag'])\n",
    "    return [tags, inputs]"
   ]
  },
  {
   "cell_type": "code",
   "execution_count": 4,
   "metadata": {
    "id": "3Z6PihCrSkN7",
    "tags": []
   },
   "outputs": [],
   "source": [
    "# Split dataset\n",
    "[tags, inputs, responses] = processing_json_dataset(dataset)\n",
    "[val_tags, val_inputs] = processing_json_val_dataset(val_dataset)"
   ]
  },
  {
   "cell_type": "code",
   "execution_count": 5,
   "metadata": {},
   "outputs": [
    {
     "name": "stdout",
     "output_type": "stream",
     "text": [
      "15308\n"
     ]
    }
   ],
   "source": [
    "# Import tokenizer from word dictionary\n",
    "tokenizer = Tokenizer(oov_token='<OOV>')\n",
    "dictionaryToLoad = [\n",
    "    'word_dict/kaskus.json',\n",
    "    'word_dict/kompas.json'\n",
    "]\n",
    "for dictionary in dictionaryToLoad:\n",
    "    with open(dictionary, 'r') as file:\n",
    "        loadedJson = json.load(file).keys()\n",
    "    tokenizer.fit_on_texts(loadedJson)\n",
    "word_index = tokenizer.word_index\n",
    "print(len(word_index))"
   ]
  },
  {
   "cell_type": "code",
   "execution_count": 6,
   "metadata": {},
   "outputs": [],
   "source": [
    "# Grouping dataset\n",
    "groupedData = []\n",
    "for i in range(len(tags)):\n",
    "    groupedData.append([tags[i], inputs[i], responses[tags[i]]])\n",
    "\n",
    "val_groupedData = []\n",
    "for i in range(len(val_tags)):\n",
    "    val_groupedData.append([val_tags[i], val_inputs[i]])"
   ]
  },
  {
   "cell_type": "code",
   "execution_count": 7,
   "metadata": {},
   "outputs": [],
   "source": [
    "# Shuffle dataset for better training\n",
    "random.shuffle(groupedData)\n",
    "random.shuffle(val_groupedData)"
   ]
  },
  {
   "cell_type": "code",
   "execution_count": 8,
   "metadata": {},
   "outputs": [],
   "source": [
    "# Resplitting the dataset\n",
    "train_label = [item[0] for item in groupedData]\n",
    "train_input = [item[1] for item in groupedData]\n",
    "val_label = [item[0] for item in val_groupedData]\n",
    "val_input = [item[1] for item in val_groupedData]"
   ]
  },
  {
   "cell_type": "code",
   "execution_count": 9,
   "metadata": {},
   "outputs": [],
   "source": [
    "trunc_type = 'pre'\n",
    "padding_type = 'post'\n",
    "max_length = 10\n",
    "\n",
    "tokenizer.fit_on_texts(train_input)\n",
    "tokenizer.fit_on_texts(val_input)\n",
    "training_sequences = tokenizer.texts_to_sequences(train_input)\n",
    "training_padded = pad_sequences(training_sequences, maxlen=max_length, padding=padding_type, truncating=trunc_type)\n",
    "validation_sequences = tokenizer.texts_to_sequences(val_input)\n",
    "validation_padded = pad_sequences(validation_sequences, maxlen=max_length, padding=padding_type, truncating=trunc_type)\n",
    "\n",
    "le = LabelEncoder()\n",
    "training_labels = le.fit_transform(train_label)\n",
    "validation_labels = le.fit_transform(val_label)"
   ]
  },
  {
   "cell_type": "code",
   "execution_count": 10,
   "metadata": {},
   "outputs": [],
   "source": [
    "# Saving tokenizer dictionary data into json\n",
    "word_dict = {item[0]: item[1] for item in tokenizer.word_index.items()}\n",
    "with open('tokenizer_dict_chatbot.json', 'w') as json_file:\n",
    "    json.dump(word_dict, json_file, indent=4)"
   ]
  },
  {
   "cell_type": "code",
   "execution_count": 11,
   "metadata": {},
   "outputs": [],
   "source": [
    "# Saving dataset labels into json\n",
    "leDecoder = LabelEncoder()\n",
    "leDecoder.fit(train_label)\n",
    "le_name_mapping = dict(zip(leDecoder.classes_, leDecoder.transform(leDecoder.classes_)))\n",
    "transformed_classes = leDecoder.transform(leDecoder.classes_).tolist()\n",
    "le_name_mapping = dict(zip(leDecoder.classes_, transformed_classes))\n",
    "with open('result_decoder.json', 'w') as json_file:\n",
    "    json.dump(le_name_mapping, json_file, indent=4)"
   ]
  },
  {
   "cell_type": "code",
   "execution_count": 12,
   "metadata": {
    "colab": {
     "base_uri": "https://localhost:8080/"
    },
    "id": "Y2i2xasgL8Xu",
    "outputId": "67dc60e7-8154-497f-db47-1d93a11a2c44"
   },
   "outputs": [
    {
     "name": "stdout",
     "output_type": "stream",
     "text": [
      "Training shape: 10\n",
      "(117, 10)\n",
      "Validation shape: 10\n",
      "(41, 10)\n"
     ]
    }
   ],
   "source": [
    "print(f\"Training shape: {len(training_padded[0])}\")\n",
    "print(training_padded.shape)\n",
    "print(f\"Validation shape: {len(validation_padded[0])}\")\n",
    "print(validation_padded.shape)"
   ]
  },
  {
   "cell_type": "code",
   "execution_count": 13,
   "metadata": {
    "colab": {
     "base_uri": "https://localhost:8080/"
    },
    "id": "OaXDwXOIAkR4",
    "outputId": "4b83ef25-4b18-41dc-e6fb-985d630b84b2"
   },
   "outputs": [
    {
     "name": "stdout",
     "output_type": "stream",
     "text": [
      "number of unique words :  15336\n",
      "output length:  30\n"
     ]
    }
   ],
   "source": [
    "vocabulary = len(tokenizer.word_index)\n",
    "print(\"number of unique words : \",vocabulary)\n",
    "output_length = le.classes_.shape[0]\n",
    "print(\"output length: \",output_length)"
   ]
  },
  {
   "cell_type": "code",
   "execution_count": 14,
   "metadata": {
    "colab": {
     "base_uri": "https://localhost:8080/"
    },
    "id": "QSK5Dn7pkzaA",
    "outputId": "972e1a70-6ca9-44e3-8ead-dda54fe15df5"
   },
   "outputs": [
    {
     "name": "stdout",
     "output_type": "stream",
     "text": [
      "Found 400000 word vectors.\n"
     ]
    }
   ],
   "source": [
    "# GloVe embedding\n",
    "glove_dir = \"../../glove.6B/glove.6B.100d.txt\"\n",
    "embeddings_index = {}\n",
    "file_ = open(glove_dir, encoding=\"utf8\")\n",
    "for line in file_:\n",
    "    arr = line.split()\n",
    "    single_word = arr[0]\n",
    "    w = np.asarray(arr[1:],dtype='float32')\n",
    "    embeddings_index[single_word] = w\n",
    "file_.close()\n",
    "print('Found %s word vectors.' % len(embeddings_index))"
   ]
  },
  {
   "cell_type": "code",
   "execution_count": 15,
   "metadata": {
    "id": "tbwd2zL3mfDb"
   },
   "outputs": [],
   "source": [
    "max_words = vocabulary + 1\n",
    "word_index = tokenizer.word_index\n",
    "embedding_matrix = np.zeros((max_words,100)).astype(object)\n",
    "for word , i in word_index.items():\n",
    "        embedding_vector = embeddings_index.get(word)\n",
    "        if embedding_vector is not None:\n",
    "            embedding_matrix[i] = embedding_vector"
   ]
  },
  {
   "cell_type": "code",
   "execution_count": 16,
   "metadata": {},
   "outputs": [],
   "source": [
    "# Declare graph function and callback class\n",
    "def plot_graphs(history, string):\n",
    "    plt.plot(history.history[string])\n",
    "    plt.plot(history.history['val_'+string])\n",
    "    plt.xlabel(\"Epochs\")\n",
    "    plt.ylabel(string)\n",
    "    plt.legend([string, 'val_'+string])\n",
    "    plt.ylim(bottom=0)\n",
    "    plt.show()\n",
    "    \n",
    "class Callback(tf.keras.callbacks.Callback):\n",
    "    def on_epoch_end(self, epoch, logs={}):\n",
    "        if logs.get('val_accuracy') > 0.8 and logs.get('accuracy') > 0.92:\n",
    "            self.model.stop_training = True"
   ]
  },
  {
   "cell_type": "code",
   "execution_count": 17,
   "metadata": {},
   "outputs": [
    {
     "name": "stdout",
     "output_type": "stream",
     "text": [
      "Model: \"sequential\"\n",
      "_________________________________________________________________\n",
      " Layer (type)                Output Shape              Param #   \n",
      "=================================================================\n",
      " embedding (Embedding)       (None, 10, 100)           1533700   \n",
      "                                                                 \n",
      " dropout (Dropout)           (None, 10, 100)           0         \n",
      "                                                                 \n",
      " gru (GRU)                   (None, 10, 128)           88320     \n",
      "                                                                 \n",
      " layer_normalization (LayerN  (None, 10, 128)          256       \n",
      " ormalization)                                                   \n",
      "                                                                 \n",
      " dropout_1 (Dropout)         (None, 10, 128)           0         \n",
      "                                                                 \n",
      " gru_1 (GRU)                 (None, 128)               99072     \n",
      "                                                                 \n",
      " layer_normalization_1 (Laye  (None, 128)              256       \n",
      " rNormalization)                                                 \n",
      "                                                                 \n",
      " dropout_2 (Dropout)         (None, 128)               0         \n",
      "                                                                 \n",
      " dense (Dense)               (None, 128)               16512     \n",
      "                                                                 \n",
      " layer_normalization_2 (Laye  (None, 128)              256       \n",
      " rNormalization)                                                 \n",
      "                                                                 \n",
      " dense_1 (Dense)             (None, 64)                8256      \n",
      "                                                                 \n",
      " dropout_3 (Dropout)         (None, 64)                0         \n",
      "                                                                 \n",
      " layer_normalization_3 (Laye  (None, 64)               128       \n",
      " rNormalization)                                                 \n",
      "                                                                 \n",
      " dense_2 (Dense)             (None, 30)                1950      \n",
      "                                                                 \n",
      "=================================================================\n",
      "Total params: 1,748,706\n",
      "Trainable params: 215,006\n",
      "Non-trainable params: 1,533,700\n",
      "_________________________________________________________________\n"
     ]
    }
   ],
   "source": [
    "# Declare the model\n",
    "model = tf.keras.Sequential([\n",
    "    tf.keras.layers.Input(shape=(training_padded.shape[1])),\n",
    "    tf.keras.layers.Embedding(input_dim=max_words, output_dim=100, weights=[embedding_matrix], trainable=False, mask_zero=True),\n",
    "    tf.keras.layers.Dropout(0.3),\n",
    "    tf.keras.layers.GRU(128, dropout=0.2, return_sequences=True),\n",
    "    tf.keras.layers.LayerNormalization(),\n",
    "    tf.keras.layers.Dropout(0.1),\n",
    "    tf.keras.layers.GRU(128, dropout=0.1, return_sequences=False),\n",
    "    tf.keras.layers.LayerNormalization(),\n",
    "    tf.keras.layers.Dropout(0.2),\n",
    "    tf.keras.layers.Dense(128, activation=\"relu\"),\n",
    "    tf.keras.layers.LayerNormalization(),\n",
    "    tf.keras.layers.Dense(64, activation=\"relu\"),\n",
    "    tf.keras.layers.Dropout(0.1),\n",
    "    tf.keras.layers.LayerNormalization(),\n",
    "    tf.keras.layers.Dense(output_length, activation=\"softmax\")\n",
    "])\n",
    "model.summary()"
   ]
  },
  {
   "cell_type": "code",
   "execution_count": 18,
   "metadata": {
    "colab": {
     "base_uri": "https://localhost:8080/"
    },
    "id": "1BJ5JCKjUQaH",
    "outputId": "8b82c6ca-dd96-4aa6-80bd-ee2c34dd1e36",
    "scrolled": true,
    "tags": []
   },
   "outputs": [
    {
     "name": "stdout",
     "output_type": "stream",
     "text": [
      "Epoch 1/500\n",
      "2/2 [==============================] - 9s 2s/step - loss: 4.2190 - accuracy: 0.0256 - val_loss: 3.8308 - val_accuracy: 0.0244\n",
      "Epoch 2/500\n",
      "2/2 [==============================] - 0s 72ms/step - loss: 3.7427 - accuracy: 0.0598 - val_loss: 3.6249 - val_accuracy: 0.0244\n",
      "Epoch 3/500\n",
      "2/2 [==============================] - 0s 61ms/step - loss: 3.6322 - accuracy: 0.0855 - val_loss: 3.5149 - val_accuracy: 0.0488\n",
      "Epoch 4/500\n",
      "2/2 [==============================] - 0s 59ms/step - loss: 3.4684 - accuracy: 0.1111 - val_loss: 3.4785 - val_accuracy: 0.0732\n",
      "Epoch 5/500\n",
      "2/2 [==============================] - 0s 54ms/step - loss: 3.2498 - accuracy: 0.1368 - val_loss: 3.4325 - val_accuracy: 0.1463\n",
      "Epoch 6/500\n",
      "2/2 [==============================] - 0s 60ms/step - loss: 3.1524 - accuracy: 0.1197 - val_loss: 3.3445 - val_accuracy: 0.1707\n",
      "Epoch 7/500\n",
      "2/2 [==============================] - 0s 52ms/step - loss: 3.1060 - accuracy: 0.1624 - val_loss: 3.2331 - val_accuracy: 0.1707\n",
      "Epoch 8/500\n",
      "2/2 [==============================] - 0s 52ms/step - loss: 2.9437 - accuracy: 0.1709 - val_loss: 3.1218 - val_accuracy: 0.1707\n",
      "Epoch 9/500\n",
      "2/2 [==============================] - 0s 50ms/step - loss: 2.9152 - accuracy: 0.2137 - val_loss: 3.0049 - val_accuracy: 0.2195\n",
      "Epoch 10/500\n",
      "2/2 [==============================] - 0s 40ms/step - loss: 2.9527 - accuracy: 0.1795 - val_loss: 2.8954 - val_accuracy: 0.2683\n",
      "Epoch 11/500\n",
      "2/2 [==============================] - 0s 39ms/step - loss: 2.7844 - accuracy: 0.2308 - val_loss: 2.8038 - val_accuracy: 0.2683\n",
      "Epoch 12/500\n",
      "2/2 [==============================] - 0s 38ms/step - loss: 2.6843 - accuracy: 0.2051 - val_loss: 2.7290 - val_accuracy: 0.2683\n",
      "Epoch 13/500\n",
      "2/2 [==============================] - 0s 39ms/step - loss: 2.4416 - accuracy: 0.3590 - val_loss: 2.6566 - val_accuracy: 0.2927\n",
      "Epoch 14/500\n",
      "2/2 [==============================] - 0s 41ms/step - loss: 2.5624 - accuracy: 0.3077 - val_loss: 2.5913 - val_accuracy: 0.2927\n",
      "Epoch 15/500\n",
      "2/2 [==============================] - 0s 38ms/step - loss: 2.4631 - accuracy: 0.2906 - val_loss: 2.5376 - val_accuracy: 0.2927\n",
      "Epoch 16/500\n",
      "2/2 [==============================] - 0s 39ms/step - loss: 2.3034 - accuracy: 0.3761 - val_loss: 2.4905 - val_accuracy: 0.3659\n",
      "Epoch 17/500\n",
      "2/2 [==============================] - 0s 36ms/step - loss: 2.3608 - accuracy: 0.3504 - val_loss: 2.4505 - val_accuracy: 0.4390\n",
      "Epoch 18/500\n",
      "2/2 [==============================] - 0s 40ms/step - loss: 2.3795 - accuracy: 0.3846 - val_loss: 2.4068 - val_accuracy: 0.4634\n",
      "Epoch 19/500\n",
      "2/2 [==============================] - 0s 39ms/step - loss: 2.1939 - accuracy: 0.3932 - val_loss: 2.3722 - val_accuracy: 0.4634\n",
      "Epoch 20/500\n",
      "2/2 [==============================] - 0s 42ms/step - loss: 2.2213 - accuracy: 0.4017 - val_loss: 2.3364 - val_accuracy: 0.5122\n",
      "Epoch 21/500\n",
      "2/2 [==============================] - 0s 44ms/step - loss: 2.1453 - accuracy: 0.4274 - val_loss: 2.3100 - val_accuracy: 0.4878\n",
      "Epoch 22/500\n",
      "2/2 [==============================] - 0s 40ms/step - loss: 2.2586 - accuracy: 0.3590 - val_loss: 2.2875 - val_accuracy: 0.4878\n",
      "Epoch 23/500\n",
      "2/2 [==============================] - 0s 39ms/step - loss: 2.0858 - accuracy: 0.3846 - val_loss: 2.2712 - val_accuracy: 0.5122\n",
      "Epoch 24/500\n",
      "2/2 [==============================] - 0s 40ms/step - loss: 2.0276 - accuracy: 0.4957 - val_loss: 2.2582 - val_accuracy: 0.5122\n",
      "Epoch 25/500\n",
      "2/2 [==============================] - 0s 41ms/step - loss: 1.9312 - accuracy: 0.5043 - val_loss: 2.2474 - val_accuracy: 0.5122\n",
      "Epoch 26/500\n",
      "2/2 [==============================] - 0s 38ms/step - loss: 1.9345 - accuracy: 0.5128 - val_loss: 2.2231 - val_accuracy: 0.5610\n",
      "Epoch 27/500\n",
      "2/2 [==============================] - 0s 38ms/step - loss: 1.9358 - accuracy: 0.5043 - val_loss: 2.1913 - val_accuracy: 0.5610\n",
      "Epoch 28/500\n",
      "2/2 [==============================] - 0s 43ms/step - loss: 1.8338 - accuracy: 0.5043 - val_loss: 2.1699 - val_accuracy: 0.5610\n",
      "Epoch 29/500\n",
      "2/2 [==============================] - 0s 48ms/step - loss: 1.7530 - accuracy: 0.4872 - val_loss: 2.1462 - val_accuracy: 0.5610\n",
      "Epoch 30/500\n",
      "2/2 [==============================] - 0s 41ms/step - loss: 1.7371 - accuracy: 0.5726 - val_loss: 2.1168 - val_accuracy: 0.5610\n",
      "Epoch 31/500\n",
      "2/2 [==============================] - 0s 41ms/step - loss: 1.7455 - accuracy: 0.5385 - val_loss: 2.0883 - val_accuracy: 0.5610\n",
      "Epoch 32/500\n",
      "2/2 [==============================] - 0s 46ms/step - loss: 1.7512 - accuracy: 0.5385 - val_loss: 2.0595 - val_accuracy: 0.5610\n",
      "Epoch 33/500\n",
      "2/2 [==============================] - 0s 37ms/step - loss: 1.5899 - accuracy: 0.5897 - val_loss: 2.0351 - val_accuracy: 0.5610\n",
      "Epoch 34/500\n",
      "2/2 [==============================] - 0s 38ms/step - loss: 1.5297 - accuracy: 0.6239 - val_loss: 2.0120 - val_accuracy: 0.5610\n",
      "Epoch 35/500\n",
      "2/2 [==============================] - 0s 36ms/step - loss: 1.7705 - accuracy: 0.4872 - val_loss: 1.9992 - val_accuracy: 0.5610\n",
      "Epoch 36/500\n",
      "2/2 [==============================] - 0s 46ms/step - loss: 1.5828 - accuracy: 0.5897 - val_loss: 1.9974 - val_accuracy: 0.5610\n",
      "Epoch 37/500\n",
      "2/2 [==============================] - 0s 40ms/step - loss: 1.4727 - accuracy: 0.6154 - val_loss: 1.9908 - val_accuracy: 0.5854\n",
      "Epoch 38/500\n",
      "2/2 [==============================] - 0s 36ms/step - loss: 1.5420 - accuracy: 0.5641 - val_loss: 1.9853 - val_accuracy: 0.6098\n",
      "Epoch 39/500\n",
      "2/2 [==============================] - 0s 39ms/step - loss: 1.4556 - accuracy: 0.6154 - val_loss: 1.9691 - val_accuracy: 0.6098\n",
      "Epoch 40/500\n",
      "2/2 [==============================] - 0s 38ms/step - loss: 1.3775 - accuracy: 0.5897 - val_loss: 1.9514 - val_accuracy: 0.6341\n",
      "Epoch 41/500\n",
      "2/2 [==============================] - 0s 40ms/step - loss: 1.4763 - accuracy: 0.6068 - val_loss: 1.9366 - val_accuracy: 0.6341\n",
      "Epoch 42/500\n",
      "2/2 [==============================] - 0s 41ms/step - loss: 1.4152 - accuracy: 0.6325 - val_loss: 1.9196 - val_accuracy: 0.6341\n",
      "Epoch 43/500\n",
      "2/2 [==============================] - 0s 42ms/step - loss: 1.4283 - accuracy: 0.6410 - val_loss: 1.9081 - val_accuracy: 0.6098\n",
      "Epoch 44/500\n",
      "2/2 [==============================] - 0s 42ms/step - loss: 1.3188 - accuracy: 0.6496 - val_loss: 1.9007 - val_accuracy: 0.6098\n",
      "Epoch 45/500\n",
      "2/2 [==============================] - 0s 37ms/step - loss: 1.3798 - accuracy: 0.6325 - val_loss: 1.8997 - val_accuracy: 0.6098\n",
      "Epoch 46/500\n",
      "2/2 [==============================] - 0s 43ms/step - loss: 1.3128 - accuracy: 0.6667 - val_loss: 1.8999 - val_accuracy: 0.6098\n",
      "Epoch 47/500\n",
      "2/2 [==============================] - 0s 39ms/step - loss: 1.2796 - accuracy: 0.6239 - val_loss: 1.8946 - val_accuracy: 0.6341\n",
      "Epoch 48/500\n",
      "2/2 [==============================] - 0s 39ms/step - loss: 1.2768 - accuracy: 0.7094 - val_loss: 1.8863 - val_accuracy: 0.6585\n",
      "Epoch 49/500\n",
      "2/2 [==============================] - 0s 37ms/step - loss: 1.3130 - accuracy: 0.6752 - val_loss: 1.8700 - val_accuracy: 0.6585\n",
      "Epoch 50/500\n",
      "2/2 [==============================] - 0s 41ms/step - loss: 1.2768 - accuracy: 0.6838 - val_loss: 1.8610 - val_accuracy: 0.6829\n",
      "Epoch 51/500\n",
      "2/2 [==============================] - 0s 40ms/step - loss: 1.1406 - accuracy: 0.6923 - val_loss: 1.8528 - val_accuracy: 0.6829\n",
      "Epoch 52/500\n",
      "2/2 [==============================] - 0s 43ms/step - loss: 1.1630 - accuracy: 0.6923 - val_loss: 1.8370 - val_accuracy: 0.6829\n",
      "Epoch 53/500\n",
      "2/2 [==============================] - 0s 41ms/step - loss: 1.2480 - accuracy: 0.6923 - val_loss: 1.8222 - val_accuracy: 0.6829\n",
      "Epoch 54/500\n",
      "2/2 [==============================] - 0s 38ms/step - loss: 1.0351 - accuracy: 0.7350 - val_loss: 1.8066 - val_accuracy: 0.6585\n",
      "Epoch 55/500\n",
      "2/2 [==============================] - 0s 37ms/step - loss: 1.1642 - accuracy: 0.7350 - val_loss: 1.7974 - val_accuracy: 0.6829\n",
      "Epoch 56/500\n",
      "2/2 [==============================] - 0s 39ms/step - loss: 1.0778 - accuracy: 0.7094 - val_loss: 1.7959 - val_accuracy: 0.6829\n",
      "Epoch 57/500\n",
      "2/2 [==============================] - 0s 42ms/step - loss: 1.1075 - accuracy: 0.7009 - val_loss: 1.7943 - val_accuracy: 0.6829\n",
      "Epoch 58/500\n",
      "2/2 [==============================] - 0s 39ms/step - loss: 1.0142 - accuracy: 0.7009 - val_loss: 1.7948 - val_accuracy: 0.6829\n",
      "Epoch 59/500\n",
      "2/2 [==============================] - 0s 38ms/step - loss: 0.9693 - accuracy: 0.7521 - val_loss: 1.7992 - val_accuracy: 0.6829\n",
      "Epoch 60/500\n",
      "2/2 [==============================] - 0s 38ms/step - loss: 0.9712 - accuracy: 0.7863 - val_loss: 1.7967 - val_accuracy: 0.6829\n",
      "Epoch 61/500\n",
      "2/2 [==============================] - 0s 38ms/step - loss: 0.9848 - accuracy: 0.7436 - val_loss: 1.7936 - val_accuracy: 0.7073\n",
      "Epoch 62/500\n",
      "2/2 [==============================] - 0s 42ms/step - loss: 0.9879 - accuracy: 0.7778 - val_loss: 1.7888 - val_accuracy: 0.7073\n",
      "Epoch 63/500\n",
      "2/2 [==============================] - 0s 38ms/step - loss: 0.9772 - accuracy: 0.7265 - val_loss: 1.7810 - val_accuracy: 0.7073\n",
      "Epoch 64/500\n",
      "2/2 [==============================] - 0s 39ms/step - loss: 0.9320 - accuracy: 0.7692 - val_loss: 1.7732 - val_accuracy: 0.7073\n",
      "Epoch 65/500\n",
      "2/2 [==============================] - 0s 38ms/step - loss: 0.9593 - accuracy: 0.7863 - val_loss: 1.7624 - val_accuracy: 0.6829\n",
      "Epoch 66/500\n",
      "2/2 [==============================] - 0s 37ms/step - loss: 0.8913 - accuracy: 0.7692 - val_loss: 1.7532 - val_accuracy: 0.6829\n",
      "Epoch 67/500\n",
      "2/2 [==============================] - 0s 50ms/step - loss: 0.8993 - accuracy: 0.7778 - val_loss: 1.7520 - val_accuracy: 0.6829\n",
      "Epoch 68/500\n",
      "2/2 [==============================] - 0s 38ms/step - loss: 0.8555 - accuracy: 0.7436 - val_loss: 1.7507 - val_accuracy: 0.6829\n",
      "Epoch 69/500\n",
      "2/2 [==============================] - 0s 39ms/step - loss: 0.7849 - accuracy: 0.8632 - val_loss: 1.7441 - val_accuracy: 0.6829\n",
      "Epoch 70/500\n",
      "2/2 [==============================] - 0s 37ms/step - loss: 0.9332 - accuracy: 0.7607 - val_loss: 1.7427 - val_accuracy: 0.6829\n",
      "Epoch 71/500\n",
      "2/2 [==============================] - 0s 42ms/step - loss: 0.8721 - accuracy: 0.7692 - val_loss: 1.7437 - val_accuracy: 0.7073\n",
      "Epoch 72/500\n",
      "2/2 [==============================] - 0s 41ms/step - loss: 0.8775 - accuracy: 0.7607 - val_loss: 1.7448 - val_accuracy: 0.7073\n",
      "Epoch 73/500\n",
      "2/2 [==============================] - 0s 44ms/step - loss: 0.8155 - accuracy: 0.8291 - val_loss: 1.7429 - val_accuracy: 0.7073\n",
      "Epoch 74/500\n",
      "2/2 [==============================] - 0s 43ms/step - loss: 0.8392 - accuracy: 0.7949 - val_loss: 1.7432 - val_accuracy: 0.7073\n",
      "Epoch 75/500\n",
      "2/2 [==============================] - 0s 42ms/step - loss: 0.8508 - accuracy: 0.7607 - val_loss: 1.7425 - val_accuracy: 0.7073\n",
      "Epoch 76/500\n",
      "2/2 [==============================] - 0s 39ms/step - loss: 0.8332 - accuracy: 0.7863 - val_loss: 1.7406 - val_accuracy: 0.7561\n",
      "Epoch 77/500\n",
      "2/2 [==============================] - 0s 38ms/step - loss: 0.7943 - accuracy: 0.8120 - val_loss: 1.7371 - val_accuracy: 0.7561\n",
      "Epoch 78/500\n",
      "2/2 [==============================] - 0s 39ms/step - loss: 0.7384 - accuracy: 0.8291 - val_loss: 1.7382 - val_accuracy: 0.7317\n",
      "Epoch 79/500\n",
      "2/2 [==============================] - 0s 38ms/step - loss: 0.7818 - accuracy: 0.8034 - val_loss: 1.7389 - val_accuracy: 0.7317\n",
      "Epoch 80/500\n",
      "2/2 [==============================] - 0s 38ms/step - loss: 0.7615 - accuracy: 0.8205 - val_loss: 1.7366 - val_accuracy: 0.7317\n",
      "Epoch 81/500\n",
      "2/2 [==============================] - 0s 40ms/step - loss: 0.7164 - accuracy: 0.8376 - val_loss: 1.7326 - val_accuracy: 0.7317\n",
      "Epoch 82/500\n",
      "2/2 [==============================] - 0s 42ms/step - loss: 0.7977 - accuracy: 0.7607 - val_loss: 1.7295 - val_accuracy: 0.7073\n",
      "Epoch 83/500\n",
      "2/2 [==============================] - 0s 43ms/step - loss: 0.7136 - accuracy: 0.8205 - val_loss: 1.7349 - val_accuracy: 0.7073\n",
      "Epoch 84/500\n",
      "2/2 [==============================] - 0s 47ms/step - loss: 0.6344 - accuracy: 0.8889 - val_loss: 1.7429 - val_accuracy: 0.7073\n",
      "Epoch 85/500\n",
      "2/2 [==============================] - 0s 47ms/step - loss: 0.7026 - accuracy: 0.8462 - val_loss: 1.7496 - val_accuracy: 0.7073\n",
      "Epoch 86/500\n",
      "2/2 [==============================] - 0s 42ms/step - loss: 0.6635 - accuracy: 0.8462 - val_loss: 1.7531 - val_accuracy: 0.7073\n",
      "Epoch 87/500\n",
      "2/2 [==============================] - 0s 47ms/step - loss: 0.7239 - accuracy: 0.8120 - val_loss: 1.7521 - val_accuracy: 0.7073\n",
      "Epoch 88/500\n",
      "2/2 [==============================] - 0s 42ms/step - loss: 0.6505 - accuracy: 0.8718 - val_loss: 1.7507 - val_accuracy: 0.7073\n",
      "Epoch 89/500\n",
      "2/2 [==============================] - 0s 43ms/step - loss: 0.6375 - accuracy: 0.9145 - val_loss: 1.7466 - val_accuracy: 0.7073\n",
      "Epoch 90/500\n",
      "2/2 [==============================] - 0s 40ms/step - loss: 0.6647 - accuracy: 0.8376 - val_loss: 1.7424 - val_accuracy: 0.7073\n",
      "Epoch 91/500\n",
      "2/2 [==============================] - 0s 44ms/step - loss: 0.5741 - accuracy: 0.8889 - val_loss: 1.7364 - val_accuracy: 0.7073\n",
      "Epoch 92/500\n",
      "2/2 [==============================] - 0s 45ms/step - loss: 0.6438 - accuracy: 0.8120 - val_loss: 1.7331 - val_accuracy: 0.7073\n",
      "Epoch 93/500\n",
      "2/2 [==============================] - 0s 45ms/step - loss: 0.5622 - accuracy: 0.8718 - val_loss: 1.7283 - val_accuracy: 0.7073\n",
      "Epoch 94/500\n",
      "2/2 [==============================] - 0s 41ms/step - loss: 0.5843 - accuracy: 0.8376 - val_loss: 1.7246 - val_accuracy: 0.7073\n",
      "Epoch 95/500\n",
      "2/2 [==============================] - 0s 41ms/step - loss: 0.5976 - accuracy: 0.8632 - val_loss: 1.7303 - val_accuracy: 0.7073\n",
      "Epoch 96/500\n",
      "2/2 [==============================] - 0s 38ms/step - loss: 0.6224 - accuracy: 0.8376 - val_loss: 1.7462 - val_accuracy: 0.7073\n",
      "Epoch 97/500\n",
      "2/2 [==============================] - 0s 43ms/step - loss: 0.5816 - accuracy: 0.8376 - val_loss: 1.7561 - val_accuracy: 0.7073\n",
      "Epoch 98/500\n",
      "2/2 [==============================] - 0s 41ms/step - loss: 0.6117 - accuracy: 0.8376 - val_loss: 1.7543 - val_accuracy: 0.7073\n",
      "Epoch 99/500\n",
      "2/2 [==============================] - 0s 42ms/step - loss: 0.5480 - accuracy: 0.8974 - val_loss: 1.7468 - val_accuracy: 0.7073\n",
      "Epoch 100/500\n",
      "2/2 [==============================] - 0s 38ms/step - loss: 0.5265 - accuracy: 0.8547 - val_loss: 1.7359 - val_accuracy: 0.7073\n",
      "Epoch 101/500\n",
      "2/2 [==============================] - 0s 40ms/step - loss: 0.5376 - accuracy: 0.8803 - val_loss: 1.7277 - val_accuracy: 0.7073\n",
      "Epoch 102/500\n",
      "2/2 [==============================] - 0s 39ms/step - loss: 0.5090 - accuracy: 0.8803 - val_loss: 1.7183 - val_accuracy: 0.7073\n",
      "Epoch 103/500\n",
      "2/2 [==============================] - 0s 39ms/step - loss: 0.5755 - accuracy: 0.8034 - val_loss: 1.7105 - val_accuracy: 0.7073\n",
      "Epoch 104/500\n",
      "2/2 [==============================] - 0s 39ms/step - loss: 0.4659 - accuracy: 0.9060 - val_loss: 1.7062 - val_accuracy: 0.7073\n",
      "Epoch 105/500\n",
      "2/2 [==============================] - 0s 37ms/step - loss: 0.5400 - accuracy: 0.8803 - val_loss: 1.7018 - val_accuracy: 0.7073\n",
      "Epoch 106/500\n",
      "2/2 [==============================] - 0s 39ms/step - loss: 0.4138 - accuracy: 0.9231 - val_loss: 1.7004 - val_accuracy: 0.7073\n",
      "Epoch 107/500\n",
      "2/2 [==============================] - 0s 40ms/step - loss: 0.5294 - accuracy: 0.8291 - val_loss: 1.6968 - val_accuracy: 0.7073\n",
      "Epoch 108/500\n",
      "2/2 [==============================] - 0s 44ms/step - loss: 0.5677 - accuracy: 0.8718 - val_loss: 1.6926 - val_accuracy: 0.7317\n",
      "Epoch 109/500\n",
      "2/2 [==============================] - 0s 38ms/step - loss: 0.5065 - accuracy: 0.9145 - val_loss: 1.6927 - val_accuracy: 0.7561\n",
      "Epoch 110/500\n",
      "2/2 [==============================] - 0s 45ms/step - loss: 0.4738 - accuracy: 0.9145 - val_loss: 1.6946 - val_accuracy: 0.7561\n",
      "Epoch 111/500\n",
      "2/2 [==============================] - 0s 41ms/step - loss: 0.4046 - accuracy: 0.9145 - val_loss: 1.6977 - val_accuracy: 0.7561\n",
      "Epoch 112/500\n",
      "2/2 [==============================] - 0s 47ms/step - loss: 0.4455 - accuracy: 0.8889 - val_loss: 1.6966 - val_accuracy: 0.7561\n",
      "Epoch 113/500\n",
      "2/2 [==============================] - 0s 44ms/step - loss: 0.4250 - accuracy: 0.9060 - val_loss: 1.6995 - val_accuracy: 0.7317\n",
      "Epoch 114/500\n",
      "2/2 [==============================] - 0s 41ms/step - loss: 0.4689 - accuracy: 0.9145 - val_loss: 1.7019 - val_accuracy: 0.7317\n",
      "Epoch 115/500\n",
      "2/2 [==============================] - 0s 43ms/step - loss: 0.4845 - accuracy: 0.8803 - val_loss: 1.7011 - val_accuracy: 0.7317\n",
      "Epoch 116/500\n",
      "2/2 [==============================] - 0s 40ms/step - loss: 0.4517 - accuracy: 0.8803 - val_loss: 1.7040 - val_accuracy: 0.7317\n",
      "Epoch 117/500\n",
      "2/2 [==============================] - 0s 42ms/step - loss: 0.4652 - accuracy: 0.8889 - val_loss: 1.7068 - val_accuracy: 0.7317\n",
      "Epoch 118/500\n",
      "2/2 [==============================] - 0s 46ms/step - loss: 0.3973 - accuracy: 0.8718 - val_loss: 1.7067 - val_accuracy: 0.7317\n",
      "Epoch 119/500\n",
      "2/2 [==============================] - 0s 53ms/step - loss: 0.4156 - accuracy: 0.8803 - val_loss: 1.7045 - val_accuracy: 0.7317\n",
      "Epoch 120/500\n",
      "2/2 [==============================] - 0s 43ms/step - loss: 0.4111 - accuracy: 0.9060 - val_loss: 1.6932 - val_accuracy: 0.7317\n",
      "Epoch 121/500\n",
      "2/2 [==============================] - 0s 42ms/step - loss: 0.4570 - accuracy: 0.8718 - val_loss: 1.6797 - val_accuracy: 0.7317\n",
      "Epoch 122/500\n",
      "2/2 [==============================] - 0s 47ms/step - loss: 0.4140 - accuracy: 0.8974 - val_loss: 1.6728 - val_accuracy: 0.7317\n",
      "Epoch 123/500\n",
      "2/2 [==============================] - 0s 42ms/step - loss: 0.4404 - accuracy: 0.8632 - val_loss: 1.6726 - val_accuracy: 0.7317\n",
      "Epoch 124/500\n",
      "2/2 [==============================] - 0s 38ms/step - loss: 0.3931 - accuracy: 0.9231 - val_loss: 1.6752 - val_accuracy: 0.7317\n",
      "Epoch 125/500\n",
      "2/2 [==============================] - 0s 41ms/step - loss: 0.4227 - accuracy: 0.8803 - val_loss: 1.6780 - val_accuracy: 0.7317\n",
      "Epoch 126/500\n",
      "2/2 [==============================] - 0s 40ms/step - loss: 0.3708 - accuracy: 0.9316 - val_loss: 1.6777 - val_accuracy: 0.7317\n",
      "Epoch 127/500\n",
      "2/2 [==============================] - 0s 38ms/step - loss: 0.4390 - accuracy: 0.8718 - val_loss: 1.6779 - val_accuracy: 0.7317\n",
      "Epoch 128/500\n",
      "2/2 [==============================] - 0s 42ms/step - loss: 0.4501 - accuracy: 0.8291 - val_loss: 1.6782 - val_accuracy: 0.7317\n",
      "Epoch 129/500\n",
      "2/2 [==============================] - 0s 40ms/step - loss: 0.4291 - accuracy: 0.8547 - val_loss: 1.6740 - val_accuracy: 0.7561\n",
      "Epoch 130/500\n",
      "2/2 [==============================] - 0s 39ms/step - loss: 0.3691 - accuracy: 0.9402 - val_loss: 1.6735 - val_accuracy: 0.7561\n",
      "Epoch 131/500\n",
      "2/2 [==============================] - 0s 38ms/step - loss: 0.3436 - accuracy: 0.9231 - val_loss: 1.6686 - val_accuracy: 0.7561\n",
      "Epoch 132/500\n",
      "2/2 [==============================] - 0s 38ms/step - loss: 0.3775 - accuracy: 0.8974 - val_loss: 1.6643 - val_accuracy: 0.7561\n",
      "Epoch 133/500\n",
      "2/2 [==============================] - 0s 39ms/step - loss: 0.3584 - accuracy: 0.9402 - val_loss: 1.6589 - val_accuracy: 0.7317\n",
      "Epoch 134/500\n",
      "2/2 [==============================] - 0s 44ms/step - loss: 0.4117 - accuracy: 0.8718 - val_loss: 1.6540 - val_accuracy: 0.7317\n",
      "Epoch 135/500\n",
      "2/2 [==============================] - 0s 40ms/step - loss: 0.3226 - accuracy: 0.9402 - val_loss: 1.6541 - val_accuracy: 0.7317\n",
      "Epoch 136/500\n",
      "2/2 [==============================] - 0s 38ms/step - loss: 0.3074 - accuracy: 0.9316 - val_loss: 1.6590 - val_accuracy: 0.7073\n",
      "Epoch 137/500\n",
      "2/2 [==============================] - 0s 39ms/step - loss: 0.3317 - accuracy: 0.9316 - val_loss: 1.6671 - val_accuracy: 0.7073\n",
      "Epoch 138/500\n",
      "2/2 [==============================] - 0s 43ms/step - loss: 0.3511 - accuracy: 0.8974 - val_loss: 1.6740 - val_accuracy: 0.7561\n",
      "Epoch 139/500\n",
      "2/2 [==============================] - 0s 38ms/step - loss: 0.3240 - accuracy: 0.9231 - val_loss: 1.6776 - val_accuracy: 0.7561\n",
      "Epoch 140/500\n",
      "2/2 [==============================] - 0s 43ms/step - loss: 0.3296 - accuracy: 0.9145 - val_loss: 1.6832 - val_accuracy: 0.7561\n",
      "Epoch 141/500\n",
      "2/2 [==============================] - 0s 40ms/step - loss: 0.2722 - accuracy: 0.9487 - val_loss: 1.6874 - val_accuracy: 0.7561\n",
      "Epoch 142/500\n",
      "2/2 [==============================] - 0s 43ms/step - loss: 0.3542 - accuracy: 0.8803 - val_loss: 1.6970 - val_accuracy: 0.7561\n",
      "Epoch 143/500\n",
      "2/2 [==============================] - 0s 41ms/step - loss: 0.3434 - accuracy: 0.9145 - val_loss: 1.7082 - val_accuracy: 0.7561\n",
      "Epoch 144/500\n",
      "2/2 [==============================] - 0s 41ms/step - loss: 0.2985 - accuracy: 0.9658 - val_loss: 1.7174 - val_accuracy: 0.7561\n",
      "Epoch 145/500\n",
      "2/2 [==============================] - 0s 40ms/step - loss: 0.3465 - accuracy: 0.9145 - val_loss: 1.7226 - val_accuracy: 0.7561\n",
      "Epoch 146/500\n",
      "2/2 [==============================] - 0s 41ms/step - loss: 0.3532 - accuracy: 0.9231 - val_loss: 1.7268 - val_accuracy: 0.7561\n",
      "Epoch 147/500\n",
      "2/2 [==============================] - 0s 43ms/step - loss: 0.3110 - accuracy: 0.9231 - val_loss: 1.7278 - val_accuracy: 0.7561\n",
      "Epoch 148/500\n",
      "2/2 [==============================] - 0s 40ms/step - loss: 0.3002 - accuracy: 0.9145 - val_loss: 1.7270 - val_accuracy: 0.7561\n",
      "Epoch 149/500\n",
      "2/2 [==============================] - 0s 39ms/step - loss: 0.3090 - accuracy: 0.9316 - val_loss: 1.7236 - val_accuracy: 0.7805\n",
      "Epoch 150/500\n",
      "2/2 [==============================] - 0s 40ms/step - loss: 0.2693 - accuracy: 0.9402 - val_loss: 1.7153 - val_accuracy: 0.7805\n",
      "Epoch 151/500\n",
      "2/2 [==============================] - 0s 44ms/step - loss: 0.2569 - accuracy: 0.9487 - val_loss: 1.7046 - val_accuracy: 0.7805\n",
      "Epoch 152/500\n",
      "2/2 [==============================] - 0s 41ms/step - loss: 0.3248 - accuracy: 0.9060 - val_loss: 1.6957 - val_accuracy: 0.7805\n",
      "Epoch 153/500\n",
      "2/2 [==============================] - 0s 40ms/step - loss: 0.2913 - accuracy: 0.9145 - val_loss: 1.6903 - val_accuracy: 0.7805\n",
      "Epoch 154/500\n",
      "2/2 [==============================] - 0s 43ms/step - loss: 0.3621 - accuracy: 0.9145 - val_loss: 1.6877 - val_accuracy: 0.7805\n",
      "Epoch 155/500\n",
      "2/2 [==============================] - 0s 43ms/step - loss: 0.2623 - accuracy: 0.9316 - val_loss: 1.6843 - val_accuracy: 0.7805\n",
      "Epoch 156/500\n",
      "2/2 [==============================] - 0s 44ms/step - loss: 0.2607 - accuracy: 0.9658 - val_loss: 1.6822 - val_accuracy: 0.7805\n",
      "Epoch 157/500\n",
      "2/2 [==============================] - 0s 43ms/step - loss: 0.2794 - accuracy: 0.9231 - val_loss: 1.6855 - val_accuracy: 0.7805\n",
      "Epoch 158/500\n",
      "2/2 [==============================] - 0s 45ms/step - loss: 0.3049 - accuracy: 0.9231 - val_loss: 1.6872 - val_accuracy: 0.7805\n",
      "Epoch 159/500\n",
      "2/2 [==============================] - 0s 43ms/step - loss: 0.3303 - accuracy: 0.9316 - val_loss: 1.6918 - val_accuracy: 0.7805\n",
      "Epoch 160/500\n",
      "2/2 [==============================] - 0s 41ms/step - loss: 0.2669 - accuracy: 0.9402 - val_loss: 1.6986 - val_accuracy: 0.7805\n",
      "Epoch 161/500\n",
      "2/2 [==============================] - 0s 42ms/step - loss: 0.2078 - accuracy: 0.9915 - val_loss: 1.7044 - val_accuracy: 0.7805\n",
      "Epoch 162/500\n",
      "2/2 [==============================] - 0s 41ms/step - loss: 0.3009 - accuracy: 0.8718 - val_loss: 1.7036 - val_accuracy: 0.7805\n",
      "Epoch 163/500\n",
      "2/2 [==============================] - 0s 44ms/step - loss: 0.2498 - accuracy: 0.9658 - val_loss: 1.7063 - val_accuracy: 0.7317\n",
      "Epoch 164/500\n",
      "2/2 [==============================] - 0s 47ms/step - loss: 0.2846 - accuracy: 0.9573 - val_loss: 1.7120 - val_accuracy: 0.7317\n",
      "Epoch 165/500\n",
      "2/2 [==============================] - 0s 40ms/step - loss: 0.2537 - accuracy: 0.9145 - val_loss: 1.7235 - val_accuracy: 0.7317\n",
      "Epoch 166/500\n",
      "2/2 [==============================] - 0s 42ms/step - loss: 0.2538 - accuracy: 0.9316 - val_loss: 1.7317 - val_accuracy: 0.7317\n",
      "Epoch 167/500\n",
      "2/2 [==============================] - 0s 40ms/step - loss: 0.2692 - accuracy: 0.9060 - val_loss: 1.7354 - val_accuracy: 0.7317\n",
      "Epoch 168/500\n",
      "2/2 [==============================] - 0s 38ms/step - loss: 0.3024 - accuracy: 0.9060 - val_loss: 1.7375 - val_accuracy: 0.7317\n",
      "Epoch 169/500\n",
      "2/2 [==============================] - 0s 43ms/step - loss: 0.2505 - accuracy: 0.9573 - val_loss: 1.7389 - val_accuracy: 0.7561\n",
      "Epoch 170/500\n",
      "2/2 [==============================] - 0s 40ms/step - loss: 0.2281 - accuracy: 0.9658 - val_loss: 1.7424 - val_accuracy: 0.7805\n",
      "Epoch 171/500\n",
      "2/2 [==============================] - 0s 39ms/step - loss: 0.1994 - accuracy: 0.9658 - val_loss: 1.7430 - val_accuracy: 0.7805\n",
      "Epoch 172/500\n",
      "2/2 [==============================] - 0s 39ms/step - loss: 0.2399 - accuracy: 0.9316 - val_loss: 1.7449 - val_accuracy: 0.7805\n",
      "Epoch 173/500\n",
      "2/2 [==============================] - 0s 38ms/step - loss: 0.2697 - accuracy: 0.9231 - val_loss: 1.7451 - val_accuracy: 0.7805\n",
      "Epoch 174/500\n",
      "2/2 [==============================] - 0s 38ms/step - loss: 0.2718 - accuracy: 0.9231 - val_loss: 1.7472 - val_accuracy: 0.7561\n",
      "Epoch 175/500\n",
      "2/2 [==============================] - 0s 42ms/step - loss: 0.2040 - accuracy: 0.9573 - val_loss: 1.7507 - val_accuracy: 0.7561\n",
      "Epoch 176/500\n",
      "2/2 [==============================] - 0s 46ms/step - loss: 0.1951 - accuracy: 0.9744 - val_loss: 1.7552 - val_accuracy: 0.7561\n",
      "Epoch 177/500\n",
      "2/2 [==============================] - 0s 38ms/step - loss: 0.1805 - accuracy: 0.9487 - val_loss: 1.7619 - val_accuracy: 0.7561\n",
      "Epoch 178/500\n",
      "2/2 [==============================] - 0s 41ms/step - loss: 0.2141 - accuracy: 0.9573 - val_loss: 1.7663 - val_accuracy: 0.7561\n",
      "Epoch 179/500\n",
      "2/2 [==============================] - 0s 42ms/step - loss: 0.2224 - accuracy: 0.9573 - val_loss: 1.7720 - val_accuracy: 0.7561\n",
      "Epoch 180/500\n",
      "2/2 [==============================] - 0s 44ms/step - loss: 0.2690 - accuracy: 0.9060 - val_loss: 1.7747 - val_accuracy: 0.7561\n",
      "Epoch 181/500\n",
      "2/2 [==============================] - 0s 41ms/step - loss: 0.2283 - accuracy: 0.9316 - val_loss: 1.7714 - val_accuracy: 0.7805\n",
      "Epoch 182/500\n",
      "2/2 [==============================] - 0s 39ms/step - loss: 0.2044 - accuracy: 0.9573 - val_loss: 1.7705 - val_accuracy: 0.7805\n",
      "Epoch 183/500\n",
      "2/2 [==============================] - 0s 44ms/step - loss: 0.2040 - accuracy: 0.9487 - val_loss: 1.7673 - val_accuracy: 0.7805\n",
      "Epoch 184/500\n",
      "2/2 [==============================] - 0s 49ms/step - loss: 0.2169 - accuracy: 0.9402 - val_loss: 1.7648 - val_accuracy: 0.7805\n",
      "Epoch 185/500\n",
      "2/2 [==============================] - 0s 43ms/step - loss: 0.1881 - accuracy: 0.9744 - val_loss: 1.7641 - val_accuracy: 0.7805\n",
      "Epoch 186/500\n",
      "2/2 [==============================] - 0s 42ms/step - loss: 0.1954 - accuracy: 0.9487 - val_loss: 1.7603 - val_accuracy: 0.7805\n",
      "Epoch 187/500\n",
      "2/2 [==============================] - 0s 39ms/step - loss: 0.2018 - accuracy: 0.9402 - val_loss: 1.7553 - val_accuracy: 0.7805\n",
      "Epoch 188/500\n",
      "2/2 [==============================] - 0s 40ms/step - loss: 0.2238 - accuracy: 0.9487 - val_loss: 1.7524 - val_accuracy: 0.7805\n",
      "Epoch 189/500\n",
      "2/2 [==============================] - 0s 40ms/step - loss: 0.2095 - accuracy: 0.9658 - val_loss: 1.7483 - val_accuracy: 0.7805\n",
      "Epoch 190/500\n",
      "2/2 [==============================] - 0s 43ms/step - loss: 0.1917 - accuracy: 0.9487 - val_loss: 1.7416 - val_accuracy: 0.7805\n",
      "Epoch 191/500\n",
      "2/2 [==============================] - 0s 39ms/step - loss: 0.2357 - accuracy: 0.9231 - val_loss: 1.7348 - val_accuracy: 0.7805\n",
      "Epoch 192/500\n",
      "2/2 [==============================] - 0s 40ms/step - loss: 0.1694 - accuracy: 0.9658 - val_loss: 1.7327 - val_accuracy: 0.7805\n",
      "Epoch 193/500\n",
      "2/2 [==============================] - 0s 39ms/step - loss: 0.1979 - accuracy: 0.9402 - val_loss: 1.7327 - val_accuracy: 0.8049\n"
     ]
    }
   ],
   "source": [
    "# Compile and training the model\n",
    "model.compile(\n",
    "    loss=\"sparse_categorical_crossentropy\",\n",
    "    optimizer=tf.keras.optimizers.Adam(0.0006),\n",
    "    metrics=['accuracy']\n",
    ")\n",
    "history = model.fit(\n",
    "    training_padded,\n",
    "    training_labels,\n",
    "    epochs=500,\n",
    "    batch_size=64,\n",
    "    validation_data=(validation_padded, validation_labels),\n",
    "    callbacks=[Callback()]\n",
    ")"
   ]
  },
  {
   "cell_type": "code",
   "execution_count": 19,
   "metadata": {
    "id": "3tUsV4dFKTj7"
   },
   "outputs": [
    {
     "data": {
      "image/png": "[encoded data removed]",
      "text/plain": [
       "<Figure size 640x480 with 1 Axes>"
      ]
     },
     "metadata": {},
     "output_type": "display_data"
    },
    {
     "data": {
      "image/png": "[encoded data removed]",
      "text/plain": [
       "<Figure size 640x480 with 1 Axes>"
      ]
     },
     "metadata": {},
     "output_type": "display_data"
    }
   ],
   "source": [
    "plot_graphs(history, \"accuracy\")\n",
    "plot_graphs(history, \"loss\")"
   ]
  },
  {
   "cell_type": "code",
   "execution_count": 20,
   "metadata": {},
   "outputs": [],
   "source": [
    "def generate_answer(input):\n",
    "    input = preprocessing_text(input)\n",
    "    input = tokenizer.texts_to_sequences([input])\n",
    "    input = np.array(input).reshape(-1)\n",
    "    input = pad_sequences([input], training_padded.shape[1])\n",
    "    output = model.predict(input, verbose=0)\n",
    "    output = output.argmax()\n",
    "    response_tag = le.inverse_transform([output])[0]\n",
    "    print(f'[{response_tag}]:', random.choice(responses[response_tag]))"
   ]
  },
  {
   "cell_type": "code",
   "execution_count": 21,
   "metadata": {},
   "outputs": [
    {
     "name": "stdout",
     "output_type": "stream",
     "text": [
      "[common_hello]: Hai, saya siap membantu. Ada yang perlu ditanyakan?\n"
     ]
    }
   ],
   "source": [
    "generate_answer('hai')"
   ]
  },
  {
   "cell_type": "code",
   "execution_count": 22,
   "metadata": {},
   "outputs": [
    {
     "name": "stdout",
     "output_type": "stream",
     "text": [
      "[common_about]: Halo! Saya xx, asisten virtual dari InterviewKu. Ada pertanyaan seputar wawancara yang bisa saya bantu jawab?\n"
     ]
    }
   ],
   "source": [
    "generate_answer('siapa kamu?')"
   ]
  },
  {
   "cell_type": "code",
   "execution_count": 23,
   "metadata": {},
   "outputs": [
    {
     "name": "stdout",
     "output_type": "stream",
     "text": [
      "[cv_tips]: Ketika menyusun CV, penting untuk memberikan penekanan pada keterampilan dan pengalaman yang sesuai dengan posisi yang Anda inginkan. Jelaskan secara singkat bagaimana setiap pengalaman kerja Anda dapat memberikan nilai tambah kepada perusahaan. Gunakan bahasa yang positif dan aktif, dan hindari penggunaan frasa yang terlalu umum. Selain itu, pastikan untuk mencantumkan pendidikan, sertifikasi, dan keterampilan teknis yang relevan. CV yang efektif adalah yang memberikan gambaran komprehensif tentang kualifikasi dan potensi Anda sebagai kandidat yang cocok untuk pekerjaan.\n"
     ]
    }
   ],
   "source": [
    "generate_answer('tips membuat cv yang menarik')"
   ]
  },
  {
   "cell_type": "code",
   "execution_count": 24,
   "metadata": {},
   "outputs": [
    {
     "name": "stdout",
     "output_type": "stream",
     "text": [
      "[interview_handling_nervous]: Atasi rasa gugup dengan melakukan latihan pernapasan dan memusatkan perhatian pada pertanyaan yang diajukan. Ingatlah bahwa gugup adalah sesuatu yang dialami banyak orang dan dapat diatasi dengan pengalaman. Tunjukkan sikap profesional dan percaya diri selama wawancara.\n"
     ]
    }
   ],
   "source": [
    "generate_answer('cara agar tidak gugup saat wawancara')"
   ]
  },
  {
   "cell_type": "code",
   "execution_count": 25,
   "metadata": {},
   "outputs": [
    {
     "name": "stdout",
     "output_type": "stream",
     "text": [
      "[interview_appearance]: Selama wawancara, pastikan untuk memberikan penampilan yang konsisten dengan budaya perusahaan. Pakaian yang bersih dan rapi, serta rambut dan grooming yang terawat, menciptakan kesan profesional. Selain itu, berikan senyuman yang ramah dan pertahankan kontak mata yang tepat. Penampilan yang baik memberikan kesan bahwa Anda menghargai kesempatan wawancara dan serius dalam mencari pekerjaan.\n"
     ]
    }
   ],
   "source": [
    "generate_answer('pakaian apa yang cocok untuk wawancara?')"
   ]
  },
  {
   "cell_type": "code",
   "execution_count": 26,
   "metadata": {},
   "outputs": [
    {
     "name": "stdout",
     "output_type": "stream",
     "text": [
      "[salary_question]: Sebelum menjawab pertanyaan tentang gaji, lakukan riset untuk mengetahui kisaran gaji yang wajar untuk posisi tersebut. Sampaikan bahwa Anda menghargai nilai diri Anda dan ingin mendapatkan kompensasi yang sejalan dengan keterampilan dan pengalaman Anda. Bersiaplah untuk bernegosiasi dan berikan kesan bahwa Anda tahu nilai Anda sebagai seorang profesional.\n"
     ]
    }
   ],
   "source": [
    "generate_answer('cara menjawab pertanyaan yang menanyakan gaji yang diinginkan')"
   ]
  }
 ],
 "metadata": {
  "accelerator": "TPU",
  "colab": {
   "collapsed_sections": [],
   "machine_shape": "hm",
   "name": "Chatbot using RNN with Embedding Transfer Learning.ipynb",
   "provenance": []
  },
  "kernelspec": {
   "display_name": "Python 3 (ipykernel)",
   "language": "python",
   "name": "python3"
  },
  "language_info": {
   "codemirror_mode": {
    "name": "ipython",
    "version": 3
   },
   "file_extension": ".py",
   "mimetype": "text/x-python",
   "name": "python",
   "nbconvert_exporter": "python",
   "pygments_lexer": "ipython3",
   "version": "3.10.0"
  }
 },
 "nbformat": 4,
 "nbformat_minor": 4
}
