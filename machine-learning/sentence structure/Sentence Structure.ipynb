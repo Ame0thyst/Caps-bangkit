{
 "cells": [
  {
   "cell_type": "code",
   "execution_count": 1,
   "id": "520a6b97-41b4-44cc-b49d-1d3e95db5ab0",
   "metadata": {
    "tags": []
   },
   "outputs": [],
   "source": [
    "import pandas as pd\n",
    "import numpy as np\n",
    "import nltk\n",
    "from nltk.tokenize import word_tokenize\n",
    "import tensorflow as tf\n",
    "from tensorflow import keras\n",
    "from tensorflow.keras.optimizers import Adam\n",
    "from tensorflow.keras.preprocessing.text import Tokenizer\n",
    "from tensorflow.keras.preprocessing.sequence import pad_sequences\n",
    "from tensorflow.keras import backend as K\n",
    "from collections import Counter\n",
    "from sklearn.feature_extraction.text import CountVectorizer\n",
    "import matplotlib.pyplot as plt\n",
    "import json\n",
    "import re\n",
    "import random"
   ]
  },
  {
   "cell_type": "code",
   "execution_count": 2,
   "id": "d9411c76-ab71-4f6c-b93c-df246d1cb66b",
   "metadata": {
    "tags": []
   },
   "outputs": [],
   "source": [
    "# Read the dataset\n",
    "df = pd.read_excel('./dataset.xlsx', sheet_name='main')\n",
    "df2 = pd.read_excel('./dataset.xlsx', sheet_name='archive')"
   ]
  },
  {
   "cell_type": "code",
   "execution_count": 3,
   "id": "f375a3a6-8b4b-4051-9721-c497dbbbba4a",
   "metadata": {
    "tags": []
   },
   "outputs": [
    {
     "name": "stdout",
     "output_type": "stream",
     "text": [
      "Total Raw Answer: 2720\n",
      "Total Raw Bad Answer: 1065\n"
     ]
    }
   ],
   "source": [
    "# Combining the dataset into 1D array or string\n",
    "answerKey = list(df)[2::]\n",
    "combinedAnswer = []\n",
    "for key in answerKey:\n",
    "    for answer in df[key]:\n",
    "        if pd.isna(answer): break\n",
    "        combinedAnswer.append(answer)\n",
    "badAnswerKey = list(df2)[2::]\n",
    "combinedBadAnswer = []\n",
    "for key in badAnswerKey:\n",
    "    for badAnswer in df2[key]:\n",
    "        if pd.isna(badAnswer): break\n",
    "        combinedBadAnswer.append(badAnswer)\n",
    "\n",
    "print(f\"Total Raw Answer: {len(combinedAnswer)}\")\n",
    "print(f\"Total Raw Bad Answer: {len(combinedBadAnswer)}\")"
   ]
  },
  {
   "cell_type": "code",
   "execution_count": 4,
   "id": "95fd4460-fdad-42f8-a594-5c6a839d64a8",
   "metadata": {
    "tags": []
   },
   "outputs": [
    {
     "name": "stdout",
     "output_type": "stream",
     "text": [
      "Total Good Answer: 1032\n",
      "Total Bad Answer: 2753\n"
     ]
    }
   ],
   "source": [
    "# Filtering the good type of answer from both dataset\n",
    "# the filter is detect a word 'saya' and a coma within 10 first sentences\n",
    "goodAnswer = []\n",
    "badAnswer = []\n",
    "for answer in combinedAnswer:\n",
    "    splitAnswer = answer.split(' ')\n",
    "    sentence = ' '.join(splitAnswer[:10]).lower()\n",
    "    if 'saya' in sentence and ',' in sentence:\n",
    "        goodAnswer.append(sentence)\n",
    "    else :\n",
    "        badAnswer.append(sentence)\n",
    "for answer in combinedBadAnswer:\n",
    "    splitAnswer = answer.split(' ')\n",
    "    sentence = ' '.join(splitAnswer[:10]).lower()\n",
    "    if 'saya' in sentence and ',' in sentence:\n",
    "        goodAnswer.append(sentence)\n",
    "    else :\n",
    "        badAnswer.append(sentence)\n",
    "        \n",
    "print(f\"Total Good Answer: {len(goodAnswer)}\")\n",
    "print(f\"Total Bad Answer: {len(badAnswer)}\")"
   ]
  },
  {
   "cell_type": "code",
   "execution_count": 5,
   "id": "26812cb1-29f7-4147-bb02-40cd00c4274a",
   "metadata": {},
   "outputs": [
    {
     "name": "stdout",
     "output_type": "stream",
     "text": [
      "Final Combined Labels: 3785\n"
     ]
    }
   ],
   "source": [
    "# set a labels\n",
    "labels = pd.Series(np.concatenate([np.ones(len(goodAnswer)), np.zeros(len(badAnswer))], axis=0))\n",
    "print(\"Final Combined Labels:\", len(labels))"
   ]
  },
  {
   "cell_type": "code",
   "execution_count": 6,
   "id": "42fb8d7c-0d7e-48a5-afbf-19850db5bb82",
   "metadata": {},
   "outputs": [
    {
     "name": "stdout",
     "output_type": "stream",
     "text": [
      "Final Combined Data: 3785\n"
     ]
    }
   ],
   "source": [
    "# combining the good and bad answer\n",
    "combinedData = np.concatenate((goodAnswer, badAnswer))\n",
    "print(\"Final Combined Data:\", len(combinedData))"
   ]
  },
  {
   "cell_type": "code",
   "execution_count": 7,
   "id": "0ffba7bb-870e-444f-8bae-9a31c74ff493",
   "metadata": {
    "tags": []
   },
   "outputs": [],
   "source": [
    "# shuffling the answer for good training and validation split\n",
    "combined = list(zip(combinedData, labels))\n",
    "random.shuffle(combined)\n",
    "combined1, combined2 = zip(*combined)"
   ]
  },
  {
   "cell_type": "code",
   "execution_count": 8,
   "id": "21be8fe6-3a91-4ce5-88f2-bbc5a756dfc3",
   "metadata": {
    "tags": []
   },
   "outputs": [
    {
     "name": "stdout",
     "output_type": "stream",
     "text": [
      "Vocabulary Size: 2381\n"
     ]
    }
   ],
   "source": [
    "# counting vocabulary size to avoid overfitting\n",
    "vectorizer = CountVectorizer()\n",
    "X = vectorizer.fit_transform(combinedData)\n",
    "vocab_size = len(vectorizer.get_feature_names_out())\n",
    "print(\"Vocabulary Size:\", vocab_size)"
   ]
  },
  {
   "cell_type": "code",
   "execution_count": 9,
   "id": "e0378dad-61de-4e4a-a137-ba24f2fb5476",
   "metadata": {
    "tags": []
   },
   "outputs": [],
   "source": [
    "training_size = round(len(combinedData) * 0.95)\n",
    "max_length = 10\n",
    "embedding_dim = 32"
   ]
  },
  {
   "cell_type": "code",
   "execution_count": 10,
   "id": "81c0f525-bd9b-4604-8ef9-9e94f9ebe2ac",
   "metadata": {
    "tags": []
   },
   "outputs": [],
   "source": [
    "# splitting training and validation data\n",
    "training_sentences = combinedData[0:training_size]\n",
    "testing_sentences = combinedData[training_size:]\n",
    "training_labels = labels[0:training_size]\n",
    "testing_labels = labels[training_size:]"
   ]
  },
  {
   "cell_type": "code",
   "execution_count": 11,
   "id": "83f6943d-be01-4501-a359-dead3acdc3a3",
   "metadata": {
    "tags": []
   },
   "outputs": [],
   "source": [
    "# converting the data into sequences and give a padding\n",
    "trunc_type='post'\n",
    "padding_type='post'\n",
    "oov_tok = \"<OOV>\"\n",
    "\n",
    "tokenizer = Tokenizer(num_words=vocab_size, oov_token=oov_tok)\n",
    "tokenizer.fit_on_texts(training_sentences)\n",
    "word_index = tokenizer.word_index\n",
    "\n",
    "training_sequences = tokenizer.texts_to_sequences(training_sentences)\n",
    "training_padded = pad_sequences(training_sequences, maxlen=max_length, padding=padding_type, truncating=trunc_type)\n",
    "\n",
    "testing_sequences = tokenizer.texts_to_sequences(testing_sentences)\n",
    "testing_padded = pad_sequences(testing_sequences, maxlen=max_length, padding=padding_type, truncating=trunc_type)\n",
    "\n",
    "training_labels = np.array(training_labels)\n",
    "testing_labels = np.array(testing_labels)"
   ]
  },
  {
   "cell_type": "code",
   "execution_count": 12,
   "id": "a43b7e75-050a-497b-9e74-f1ffbba41b2a",
   "metadata": {
    "tags": []
   },
   "outputs": [],
   "source": [
    "# Saving training sentences data into json\n",
    "word_dict = {item[0]: item[1] for item in tokenizer.word_index.items()}\n",
    "with open('tokenizer_dict_struktur.json', 'w') as json_file:\n",
    "    json.dump(word_dict, json_file, indent=4)"
   ]
  },
  {
   "cell_type": "code",
   "execution_count": 13,
   "id": "d28c7565-2bdc-4f3e-845b-c9633e5001f4",
   "metadata": {
    "tags": []
   },
   "outputs": [],
   "source": [
    "# Declare graph function\n",
    "def plot_graphs(history, string):\n",
    "    plt.plot(history.history[string])\n",
    "    plt.plot(history.history['val_'+string])\n",
    "    plt.xlabel(\"Epochs\")\n",
    "    plt.ylabel(string)\n",
    "    plt.legend([string, 'val_'+string])\n",
    "\n",
    "    plt.ylim(top=1.1, bottom=0)\n",
    "\n",
    "    plt.show()"
   ]
  },
  {
   "cell_type": "code",
   "execution_count": 14,
   "id": "519e425f-8cd7-4546-b4a9-d7d2819b33cc",
   "metadata": {
    "tags": []
   },
   "outputs": [
    {
     "name": "stdout",
     "output_type": "stream",
     "text": [
      "Model: \"sequential\"\n",
      "_________________________________________________________________\n",
      " Layer (type)                Output Shape              Param #   \n",
      "=================================================================\n",
      " embedding (Embedding)       (None, 10, 32)            76192     \n",
      "                                                                 \n",
      " global_average_pooling1d (G  (None, 32)               0         \n",
      " lobalAveragePooling1D)                                          \n",
      "                                                                 \n",
      " dense (Dense)               (None, 16)                528       \n",
      "                                                                 \n",
      " dropout (Dropout)           (None, 16)                0         \n",
      "                                                                 \n",
      " dense_1 (Dense)             (None, 1)                 17        \n",
      "                                                                 \n",
      "=================================================================\n",
      "Total params: 76,737\n",
      "Trainable params: 76,737\n",
      "Non-trainable params: 0\n",
      "_________________________________________________________________\n"
     ]
    }
   ],
   "source": [
    "# Declare the model\n",
    "model = tf.keras.Sequential([\n",
    "    tf.keras.layers.Embedding(vocab_size, embedding_dim, input_length=max_length),\n",
    "    tf.keras.layers.GlobalAveragePooling1D(),\n",
    "    tf.keras.layers.Dense(16, activation='relu'),\n",
    "    tf.keras.layers.Dropout(0.5),\n",
    "    tf.keras.layers.Dense(1, activation='sigmoid')\n",
    "])\n",
    "model.summary()"
   ]
  },
  {
   "cell_type": "code",
   "execution_count": 15,
   "id": "3bb87ced-3eec-4aca-bf6b-81b9088b95a7",
   "metadata": {
    "tags": []
   },
   "outputs": [
    {
     "name": "stdout",
     "output_type": "stream",
     "text": [
      "Epoch 1/12\n",
      "113/113 - 1s - loss: 0.6409 - accuracy: 0.7111 - val_loss: 0.3982 - val_accuracy: 1.0000 - 790ms/epoch - 7ms/step\n",
      "Epoch 2/12\n",
      "113/113 - 0s - loss: 0.5476 - accuracy: 0.7286 - val_loss: 0.2598 - val_accuracy: 0.9947 - 142ms/epoch - 1ms/step\n",
      "Epoch 3/12\n",
      "113/113 - 0s - loss: 0.4517 - accuracy: 0.8109 - val_loss: 0.1850 - val_accuracy: 0.9788 - 139ms/epoch - 1ms/step\n",
      "Epoch 4/12\n",
      "113/113 - 0s - loss: 0.3718 - accuracy: 0.8515 - val_loss: 0.1591 - val_accuracy: 0.9683 - 129ms/epoch - 1ms/step\n",
      "Epoch 5/12\n",
      "113/113 - 0s - loss: 0.3150 - accuracy: 0.8818 - val_loss: 0.1379 - val_accuracy: 0.9683 - 128ms/epoch - 1ms/step\n",
      "Epoch 6/12\n",
      "113/113 - 0s - loss: 0.2836 - accuracy: 0.8963 - val_loss: 0.1511 - val_accuracy: 0.9524 - 126ms/epoch - 1ms/step\n",
      "Epoch 7/12\n",
      "113/113 - 0s - loss: 0.2508 - accuracy: 0.9102 - val_loss: 0.1586 - val_accuracy: 0.9312 - 128ms/epoch - 1ms/step\n",
      "Epoch 8/12\n",
      "113/113 - 0s - loss: 0.2296 - accuracy: 0.9177 - val_loss: 0.1601 - val_accuracy: 0.9365 - 127ms/epoch - 1ms/step\n",
      "Epoch 9/12\n",
      "113/113 - 0s - loss: 0.2106 - accuracy: 0.9294 - val_loss: 0.1340 - val_accuracy: 0.9524 - 126ms/epoch - 1ms/step\n",
      "Epoch 10/12\n",
      "113/113 - 0s - loss: 0.1902 - accuracy: 0.9352 - val_loss: 0.1650 - val_accuracy: 0.9365 - 125ms/epoch - 1ms/step\n",
      "Epoch 11/12\n",
      "113/113 - 0s - loss: 0.1781 - accuracy: 0.9399 - val_loss: 0.1543 - val_accuracy: 0.9418 - 124ms/epoch - 1ms/step\n",
      "Epoch 12/12\n",
      "113/113 - 0s - loss: 0.1626 - accuracy: 0.9463 - val_loss: 0.2065 - val_accuracy: 0.9365 - 125ms/epoch - 1ms/step\n"
     ]
    },
    {
     "data": {
      "image/png": "[encoded data removed]",
      "text/plain": [
       "<Figure size 640x480 with 1 Axes>"
      ]
     },
     "metadata": {},
     "output_type": "display_data"
    },
    {
     "data": {
      "image/png": "[encoded data removed]",
      "text/plain": [
       "<Figure size 640x480 with 1 Axes>"
      ]
     },
     "metadata": {},
     "output_type": "display_data"
    }
   ],
   "source": [
    "model.compile(loss='binary_crossentropy',optimizer=Adam(0.001),metrics=['accuracy'])\n",
    "history = model.fit(training_padded, training_labels, epochs=12, validation_data=(testing_padded, testing_labels), verbose=2)\n",
    "plot_graphs(history, \"accuracy\")\n",
    "plot_graphs(history, \"loss\")"
   ]
  },
  {
   "cell_type": "code",
   "execution_count": 16,
   "id": "f619b4b7",
   "metadata": {},
   "outputs": [],
   "source": [
    "def predict(text, treshold=0.5):\n",
    "    input_sequence = tokenizer.texts_to_sequences([text])\n",
    "    padded_input = pad_sequences(input_sequence, maxlen=max_length, padding=padding_type, truncating=trunc_type)\n",
    "    predictions = model.predict(padded_input)\n",
    "    threshold = 0.5\n",
    "    predicted_class = 1 if predictions[0][0] > threshold else 0\n",
    "    print('Bagus' if predicted_class == 1 else 'Kurang Bagus')"
   ]
  },
  {
   "cell_type": "code",
   "execution_count": 17,
   "id": "c0296eb7-02b3-44a2-8649-1a072a9c30a7",
   "metadata": {
    "tags": []
   },
   "outputs": [
    {
     "name": "stdout",
     "output_type": "stream",
     "text": [
      "1/1 [==============================] - 0s 53ms/step\n",
      "Kurang Bagus\n"
     ]
    }
   ],
   "source": [
    "predict(\"saya biasanya membuat daftar prioritas untuk menentukan tindakan yang paling mendesak.\")"
   ]
  },
  {
   "cell_type": "code",
   "execution_count": 18,
   "id": "38b82728-bcc4-40d2-80ab-e5ada7bfa4f3",
   "metadata": {
    "tags": []
   },
   "outputs": [
    {
     "name": "stdout",
     "output_type": "stream",
     "text": [
      "1/1 [==============================] - 0s 13ms/step\n",
      "Bagus\n"
     ]
    }
   ],
   "source": [
    "predict(\"Ketika saya dihadapkan pada masalah, saya biasanya membuat daftar prioritas untuk menentukan tindakan yang paling mendesak.\")"
   ]
  },
  {
   "cell_type": "markdown",
   "id": "212639aa",
   "metadata": {},
   "source": [
    "With treshold of 0.5, the predict function will return a result 0 or 1,\n",
    "0 means the sentences is bad, and 1 means the sentences is good"
   ]
  }
 ],
 "metadata": {
  "kernelspec": {
   "display_name": "Python 3 (ipykernel)",
   "language": "python",
   "name": "python3"
  },
  "language_info": {
   "codemirror_mode": {
    "name": "ipython",
    "version": 3
   },
   "file_extension": ".py",
   "mimetype": "text/x-python",
   "name": "python",
   "nbconvert_exporter": "python",
   "pygments_lexer": "ipython3",
   "version": "3.9.18"
  }
 },
 "nbformat": 4,
 "nbformat_minor": 5
}
